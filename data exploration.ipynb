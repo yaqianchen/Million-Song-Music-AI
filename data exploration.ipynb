{
 "cells": [
  {
   "cell_type": "markdown",
   "id": "b613b23d",
   "metadata": {},
   "source": [
    "## Million Songs Dataset"
   ]
  },
  {
   "cell_type": "markdown",
   "id": "293906ad",
   "metadata": {},
   "source": [
    "- Download user data from http://millionsongdataset.com/sites/default/files/challenge/train_triplets.txt.zip\n",
    "- Download song metadata db from http://millionsongdataset.com/sites/default/files/AdditionalFiles/track_metadata.db"
   ]
  },
  {
   "cell_type": "code",
   "execution_count": 1,
   "id": "8dc87d4f",
   "metadata": {},
   "outputs": [],
   "source": [
    "import os\n",
    "import sys\n",
    "import time\n",
    "import glob\n",
    "# import hdf5_getters as GETTERS\n",
    "import datetime\n",
    "import sqlite3\n",
    "import numpy as np\n",
    "import pandas as pd\n",
    "import matplotlib.pyplot as plt"
   ]
  },
  {
   "cell_type": "code",
   "execution_count": 2,
   "id": "50dc9dae",
   "metadata": {},
   "outputs": [],
   "source": [
    "path = os.getcwd()\n",
    "msd_path = os.path.join(path, 'MillionSongSubset')\n",
    "msd_data_path = os.path.join(msd_path,'data')\n",
    "msd_user_path = os.path.join(msd_path, 'user')\n",
    "msd_addf_path = os.path.join(msd_path, 'AdditionalFiles')"
   ]
  },
  {
   "cell_type": "code",
   "execution_count": 3,
   "id": "871de080",
   "metadata": {},
   "outputs": [],
   "source": [
    "# User data:\n",
    "msd_user_file = os.path.join(msd_user_path, 'train_triplets.txt')\n",
    "user_data = pd.read_csv(msd_user_file, sep='\\t', header = None)\n",
    "user_data = user_data.rename(columns = {0:'user_id', 1:'song_id', 2:'play_counts'})\n",
    "unique_song_id = list(set(user_data['song_id']))"
   ]
  },
  {
   "cell_type": "code",
   "execution_count": 4,
   "id": "3cbabd6b",
   "metadata": {},
   "outputs": [
    {
     "name": "stdout",
     "output_type": "stream",
     "text": [
      "User data shape: (48373586, 3)\n",
      "Number of unique songs: 384546\n"
     ]
    }
   ],
   "source": [
    "print('User data shape:', user_data.shape)\n",
    "print('Number of unique songs:', len(unique_song_id))"
   ]
  },
  {
   "cell_type": "code",
   "execution_count": 35,
   "id": "5ddde168",
   "metadata": {},
   "outputs": [
    {
     "data": {
      "image/png": "[encoded data removed]",
      "text/plain": [
       "<Figure size 432x288 with 1 Axes>"
      ]
     },
     "metadata": {
      "needs_background": "light"
     },
     "output_type": "display_data"
    }
   ],
   "source": [
    "# number of user songs histgram\n",
    "user_data.groupby('user_id').count()['song_id'].plot(kind='hist', bins=50)\n",
    "plt.title('Songs per user distribution')\n",
    "plt.show()"
   ]
  },
  {
   "cell_type": "code",
   "execution_count": 36,
   "id": "9eaecf5c",
   "metadata": {},
   "outputs": [
    {
     "data": {
      "image/png": "[encoded data removed]",
      "text/plain": [
       "<Figure size 432x288 with 1 Axes>"
      ]
     },
     "metadata": {
      "needs_background": "light"
     },
     "output_type": "display_data"
    }
   ],
   "source": [
    "# user play counts sum distribution\n",
    "user_data.groupby('user_id').sum('play_counts')['play_counts'].plot(kind='hist',bins=50)\n",
    "plt.title('Total play counts per user')\n",
    "plt.show()"
   ]
  },
  {
   "cell_type": "code",
   "execution_count": 13,
   "id": "cbb16b46",
   "metadata": {},
   "outputs": [],
   "source": [
    "# Song data:\n",
    "conn = sqlite3.connect(os.path.join(msd_addf_path, 'track_metadata.db'))\n",
    "q = \"SELECT * FROM songs WHERE song_id IN (\" + str(unique_song_id)[1:-1] + \")\"\n",
    "songs = pd.read_sql_query(q, conn)\n",
    "conn.close()"
   ]
  },
  {
   "cell_type": "code",
   "execution_count": 14,
   "id": "b4aef865",
   "metadata": {},
   "outputs": [
    {
     "data": {
      "text/html": [
       "<div>\n",
       "<style scoped>\n",
       "    .dataframe tbody tr th:only-of-type {\n",
       "        vertical-align: middle;\n",
       "    }\n",
       "\n",
       "    .dataframe tbody tr th {\n",
       "        vertical-align: top;\n",
       "    }\n",
       "\n",
       "    .dataframe thead th {\n",
       "        text-align: right;\n",
       "    }\n",
       "</style>\n",
       "<table border=\"1\" class=\"dataframe\">\n",
       "  <thead>\n",
       "    <tr style=\"text-align: right;\">\n",
       "      <th></th>\n",
       "      <th>track_id</th>\n",
       "      <th>title</th>\n",
       "      <th>song_id</th>\n",
       "      <th>release</th>\n",
       "      <th>artist_id</th>\n",
       "      <th>artist_mbid</th>\n",
       "      <th>artist_name</th>\n",
       "      <th>duration</th>\n",
       "      <th>artist_familiarity</th>\n",
       "      <th>artist_hotttnesss</th>\n",
       "      <th>year</th>\n",
       "      <th>track_7digitalid</th>\n",
       "      <th>shs_perf</th>\n",
       "      <th>shs_work</th>\n",
       "    </tr>\n",
       "  </thead>\n",
       "  <tbody>\n",
       "    <tr>\n",
       "      <th>0</th>\n",
       "      <td>TRMMMYQ128F932D901</td>\n",
       "      <td>Silent Night</td>\n",
       "      <td>SOQMMHC12AB0180CB8</td>\n",
       "      <td>Monster Ballads X-Mas</td>\n",
       "      <td>ARYZTJS1187B98C555</td>\n",
       "      <td>357ff05d-848a-44cf-b608-cb34b5701ae5</td>\n",
       "      <td>Faster Pussy cat</td>\n",
       "      <td>252.05506</td>\n",
       "      <td>0.649822</td>\n",
       "      <td>0.394032</td>\n",
       "      <td>2003</td>\n",
       "      <td>7032331</td>\n",
       "      <td>-1</td>\n",
       "      <td>0</td>\n",
       "    </tr>\n",
       "    <tr>\n",
       "      <th>1</th>\n",
       "      <td>TRMMMCH128F425532C</td>\n",
       "      <td>Si Vos Querés</td>\n",
       "      <td>SOBNYVR12A8C13558C</td>\n",
       "      <td>De Culo</td>\n",
       "      <td>ARNWYLR1187B9B2F9C</td>\n",
       "      <td>12be7648-7094-495f-90e6-df4189d68615</td>\n",
       "      <td>Yerba Brava</td>\n",
       "      <td>145.05751</td>\n",
       "      <td>0.448501</td>\n",
       "      <td>0.372349</td>\n",
       "      <td>2003</td>\n",
       "      <td>2168257</td>\n",
       "      <td>-1</td>\n",
       "      <td>0</td>\n",
       "    </tr>\n",
       "  </tbody>\n",
       "</table>\n",
       "</div>"
      ],
      "text/plain": [
       "             track_id          title             song_id  \\\n",
       "0  TRMMMYQ128F932D901   Silent Night  SOQMMHC12AB0180CB8   \n",
       "1  TRMMMCH128F425532C  Si Vos Querés  SOBNYVR12A8C13558C   \n",
       "\n",
       "                 release           artist_id  \\\n",
       "0  Monster Ballads X-Mas  ARYZTJS1187B98C555   \n",
       "1                De Culo  ARNWYLR1187B9B2F9C   \n",
       "\n",
       "                            artist_mbid       artist_name   duration  \\\n",
       "0  357ff05d-848a-44cf-b608-cb34b5701ae5  Faster Pussy cat  252.05506   \n",
       "1  12be7648-7094-495f-90e6-df4189d68615       Yerba Brava  145.05751   \n",
       "\n",
       "   artist_familiarity  artist_hotttnesss  year  track_7digitalid  shs_perf  \\\n",
       "0            0.649822           0.394032  2003           7032331        -1   \n",
       "1            0.448501           0.372349  2003           2168257        -1   \n",
       "\n",
       "   shs_work  \n",
       "0         0  \n",
       "1         0  "
      ]
     },
     "execution_count": 14,
     "metadata": {},
     "output_type": "execute_result"
    }
   ],
   "source": [
    "songs.head(2)"
   ]
  },
  {
   "cell_type": "code",
   "execution_count": 15,
   "id": "cf76fd79",
   "metadata": {},
   "outputs": [
    {
     "name": "stdout",
     "output_type": "stream",
     "text": [
      "After dropping songs with duplicated id: (384546, 14)\n"
     ]
    }
   ],
   "source": [
    "# Drop duplicates:\n",
    "songs = songs.drop_duplicates(subset = ['song_id'], keep = 'first')\n",
    "print('After dropping songs with duplicated id:', songs.shape)"
   ]
  },
  {
   "cell_type": "code",
   "execution_count": 16,
   "id": "3b48a8aa",
   "metadata": {},
   "outputs": [
    {
     "data": {
      "text/html": [
       "<div>\n",
       "<style scoped>\n",
       "    .dataframe tbody tr th:only-of-type {\n",
       "        vertical-align: middle;\n",
       "    }\n",
       "\n",
       "    .dataframe tbody tr th {\n",
       "        vertical-align: top;\n",
       "    }\n",
       "\n",
       "    .dataframe thead th {\n",
       "        text-align: right;\n",
       "    }\n",
       "</style>\n",
       "<table border=\"1\" class=\"dataframe\">\n",
       "  <thead>\n",
       "    <tr style=\"text-align: right;\">\n",
       "      <th></th>\n",
       "      <th>duration</th>\n",
       "      <th>artist_familiarity</th>\n",
       "      <th>artist_hotttnesss</th>\n",
       "      <th>year</th>\n",
       "      <th>track_7digitalid</th>\n",
       "      <th>shs_perf</th>\n",
       "      <th>shs_work</th>\n",
       "    </tr>\n",
       "  </thead>\n",
       "  <tbody>\n",
       "    <tr>\n",
       "      <th>count</th>\n",
       "      <td>384546.000000</td>\n",
       "      <td>384546.000000</td>\n",
       "      <td>384546.000000</td>\n",
       "      <td>384546.000000</td>\n",
       "      <td>3.845460e+05</td>\n",
       "      <td>384546.000000</td>\n",
       "      <td>384546.000000</td>\n",
       "    </tr>\n",
       "    <tr>\n",
       "      <th>mean</th>\n",
       "      <td>248.042072</td>\n",
       "      <td>0.607126</td>\n",
       "      <td>0.421286</td>\n",
       "      <td>1370.752071</td>\n",
       "      <td>3.840854e+06</td>\n",
       "      <td>1151.090611</td>\n",
       "      <td>605.258767</td>\n",
       "    </tr>\n",
       "    <tr>\n",
       "      <th>std</th>\n",
       "      <td>114.698968</td>\n",
       "      <td>0.125423</td>\n",
       "      <td>0.107252</td>\n",
       "      <td>928.597182</td>\n",
       "      <td>2.728392e+06</td>\n",
       "      <td>10001.010433</td>\n",
       "      <td>6116.551981</td>\n",
       "    </tr>\n",
       "    <tr>\n",
       "      <th>min</th>\n",
       "      <td>0.522000</td>\n",
       "      <td>-1.000000</td>\n",
       "      <td>0.000000</td>\n",
       "      <td>0.000000</td>\n",
       "      <td>-1.000000e+00</td>\n",
       "      <td>-1.000000</td>\n",
       "      <td>-935.000000</td>\n",
       "    </tr>\n",
       "    <tr>\n",
       "      <th>25%</th>\n",
       "      <td>186.487710</td>\n",
       "      <td>0.531081</td>\n",
       "      <td>0.370492</td>\n",
       "      <td>0.000000</td>\n",
       "      <td>1.389383e+06</td>\n",
       "      <td>-1.000000</td>\n",
       "      <td>0.000000</td>\n",
       "    </tr>\n",
       "    <tr>\n",
       "      <th>50%</th>\n",
       "      <td>231.392200</td>\n",
       "      <td>0.607671</td>\n",
       "      <td>0.417888</td>\n",
       "      <td>1997.000000</td>\n",
       "      <td>3.370893e+06</td>\n",
       "      <td>-1.000000</td>\n",
       "      <td>0.000000</td>\n",
       "    </tr>\n",
       "    <tr>\n",
       "      <th>75%</th>\n",
       "      <td>285.909750</td>\n",
       "      <td>0.686626</td>\n",
       "      <td>0.475740</td>\n",
       "      <td>2005.000000</td>\n",
       "      <td>6.197030e+06</td>\n",
       "      <td>-1.000000</td>\n",
       "      <td>0.000000</td>\n",
       "    </tr>\n",
       "    <tr>\n",
       "      <th>max</th>\n",
       "      <td>3034.905670</td>\n",
       "      <td>1.000000</td>\n",
       "      <td>1.082503</td>\n",
       "      <td>2011.000000</td>\n",
       "      <td>9.090644e+06</td>\n",
       "      <td>151042.000000</td>\n",
       "      <td>117257.000000</td>\n",
       "    </tr>\n",
       "  </tbody>\n",
       "</table>\n",
       "</div>"
      ],
      "text/plain": [
       "            duration  artist_familiarity  artist_hotttnesss           year  \\\n",
       "count  384546.000000       384546.000000      384546.000000  384546.000000   \n",
       "mean      248.042072            0.607126           0.421286    1370.752071   \n",
       "std       114.698968            0.125423           0.107252     928.597182   \n",
       "min         0.522000           -1.000000           0.000000       0.000000   \n",
       "25%       186.487710            0.531081           0.370492       0.000000   \n",
       "50%       231.392200            0.607671           0.417888    1997.000000   \n",
       "75%       285.909750            0.686626           0.475740    2005.000000   \n",
       "max      3034.905670            1.000000           1.082503    2011.000000   \n",
       "\n",
       "       track_7digitalid       shs_perf       shs_work  \n",
       "count      3.845460e+05  384546.000000  384546.000000  \n",
       "mean       3.840854e+06    1151.090611     605.258767  \n",
       "std        2.728392e+06   10001.010433    6116.551981  \n",
       "min       -1.000000e+00      -1.000000    -935.000000  \n",
       "25%        1.389383e+06      -1.000000       0.000000  \n",
       "50%        3.370893e+06      -1.000000       0.000000  \n",
       "75%        6.197030e+06      -1.000000       0.000000  \n",
       "max        9.090644e+06  151042.000000  117257.000000  "
      ]
     },
     "execution_count": 16,
     "metadata": {},
     "output_type": "execute_result"
    }
   ],
   "source": [
    "songs.describe()"
   ]
  },
  {
   "cell_type": "code",
   "execution_count": 33,
   "id": "05692514",
   "metadata": {},
   "outputs": [
    {
     "data": {
      "image/png": "[encoded data removed]",
      "text/plain": [
       "<Figure size 432x288 with 1 Axes>"
      ]
     },
     "metadata": {
      "needs_background": "light"
     },
     "output_type": "display_data"
    }
   ],
   "source": [
    "songs['duration'].plot(kind='hist', bins=50)\n",
    "plt.title('Songs duration distribution')\n",
    "plt.show()"
   ]
  },
  {
   "cell_type": "code",
   "execution_count": 32,
   "id": "9541a90e",
   "metadata": {},
   "outputs": [
    {
     "data": {
      "image/png": "[encoded data removed]",
      "text/plain": [
       "<Figure size 432x288 with 1 Axes>"
      ]
     },
     "metadata": {
      "needs_background": "light"
     },
     "output_type": "display_data"
    }
   ],
   "source": [
    "songs[songs['year'] > 0]['year'].plot(kind='hist', bins=50)\n",
    "plt.title('Year distribution')\n",
    "plt.show()"
   ]
  },
  {
   "cell_type": "code",
   "execution_count": 45,
   "id": "57e40e11",
   "metadata": {},
   "outputs": [],
   "source": [
    "user_songs = pd.merge(user_data, songs, how = 'inner', on = [\"song_id\"])"
   ]
  },
  {
   "cell_type": "code",
   "execution_count": 46,
   "id": "aca81d28",
   "metadata": {},
   "outputs": [
    {
     "name": "stdout",
     "output_type": "stream",
     "text": [
      "<class 'pandas.core.frame.DataFrame'>\n",
      "Int64Index: 48373586 entries, 0 to 48373585\n",
      "Data columns (total 16 columns):\n",
      " #   Column              Dtype  \n",
      "---  ------              -----  \n",
      " 0   user_id             object \n",
      " 1   song_id             object \n",
      " 2   play_counts         int64  \n",
      " 3   track_id            object \n",
      " 4   title               object \n",
      " 5   release             object \n",
      " 6   artist_id           object \n",
      " 7   artist_mbid         object \n",
      " 8   artist_name         object \n",
      " 9   duration            float64\n",
      " 10  artist_familiarity  float64\n",
      " 11  artist_hotttnesss   float64\n",
      " 12  year                int64  \n",
      " 13  track_7digitalid    int64  \n",
      " 14  shs_perf            int64  \n",
      " 15  shs_work            int64  \n",
      "dtypes: float64(3), int64(5), object(8)\n",
      "memory usage: 6.1+ GB\n"
     ]
    }
   ],
   "source": [
    "user_songs.info()"
   ]
  },
  {
   "cell_type": "code",
   "execution_count": null,
   "id": "9a97fe88",
   "metadata": {},
   "outputs": [],
   "source": []
  },
  {
   "cell_type": "code",
   "execution_count": null,
   "id": "ac2a8eec",
   "metadata": {},
   "outputs": [],
   "source": []
  },
  {
   "cell_type": "code",
   "execution_count": null,
   "id": "69e7ae29",
   "metadata": {},
   "outputs": [],
   "source": []
  }
 ],
 "metadata": {
  "kernelspec": {
   "display_name": "Python 3",
   "language": "python",
   "name": "python3"
  },
  "language_info": {
   "codemirror_mode": {
    "name": "ipython",
    "version": 3
   },
   "file_extension": ".py",
   "mimetype": "text/x-python",
   "name": "python",
   "nbconvert_exporter": "python",
   "pygments_lexer": "ipython3",
   "version": "3.8.8"
  }
 },
 "nbformat": 4,
 "nbformat_minor": 5
}
