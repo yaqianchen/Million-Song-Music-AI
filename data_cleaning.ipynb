{
 "cells": [
  {
   "cell_type": "code",
   "execution_count": 93,
   "id": "fad32f63",
   "metadata": {},
   "outputs": [],
   "source": [
    "import os\n",
    "import sys\n",
    "import time\n",
    "import glob\n",
    "import hdf5_getters as GETTERS\n",
    "import datetime\n",
    "import sqlite3\n",
    "import numpy as np\n",
    "import pandas as pd\n",
    "import matplotlib.pyplot as plt"
   ]
  },
  {
   "cell_type": "code",
   "execution_count": 71,
   "id": "851e7e6c",
   "metadata": {},
   "outputs": [],
   "source": [
    "path = os.getcwd()\n",
    "msd_path = os.path.join(path, 'MillionSongSubset')\n",
    "msd_data_path = os.path.join(msd_path,'data')\n",
    "msd_user_path = os.path.join(msd_path, 'user')\n",
    "msd_addf_path = os.path.join(msd_path, 'AdditionalFiles')"
   ]
  },
  {
   "cell_type": "markdown",
   "id": "1c0a7b5f",
   "metadata": {},
   "source": [
    "### I. Year Imputation"
   ]
  },
  {
   "cell_type": "code",
   "execution_count": 6,
   "id": "11551d83",
   "metadata": {},
   "outputs": [],
   "source": [
    "data = pd.read_csv('subset_metadata.csv')\n",
    "data = data.drop(['Unnamed: 0'], axis=1)"
   ]
  },
  {
   "cell_type": "code",
   "execution_count": 8,
   "id": "372d26f3",
   "metadata": {},
   "outputs": [],
   "source": [
    "msd_user_file = os.path.join(msd_user_path, 'train_triplets.txt')\n",
    "user_data = pd.read_csv(msd_user_file, sep='\\t', header = None)\n",
    "user_data = user_data.rename(columns = {0:'user_id', 1:'song_id', 2:'play_counts'})\n",
    "unique_song_id = list(set(user_data['song_id']))"
   ]
  },
  {
   "cell_type": "code",
   "execution_count": 9,
   "id": "a3f55c7f",
   "metadata": {},
   "outputs": [],
   "source": [
    "song_id_2 = list(set(unique_song_id) & set(data['song_id']))\n",
    "user_subset = user_data.loc[(user_data['song_id'].isin(song_id_2))]"
   ]
  },
  {
   "cell_type": "code",
   "execution_count": 10,
   "id": "adae9d19",
   "metadata": {},
   "outputs": [
    {
     "data": {
      "text/html": [
       "<div>\n",
       "<style scoped>\n",
       "    .dataframe tbody tr th:only-of-type {\n",
       "        vertical-align: middle;\n",
       "    }\n",
       "\n",
       "    .dataframe tbody tr th {\n",
       "        vertical-align: top;\n",
       "    }\n",
       "\n",
       "    .dataframe thead th {\n",
       "        text-align: right;\n",
       "    }\n",
       "</style>\n",
       "<table border=\"1\" class=\"dataframe\">\n",
       "  <thead>\n",
       "    <tr style=\"text-align: right;\">\n",
       "      <th></th>\n",
       "      <th>user_id</th>\n",
       "      <th>song_id</th>\n",
       "      <th>play_counts</th>\n",
       "    </tr>\n",
       "  </thead>\n",
       "  <tbody>\n",
       "    <tr>\n",
       "      <th>90</th>\n",
       "      <td>b80344d063b5ccb3212f76538f3d9e43d87dca9e</td>\n",
       "      <td>SOWEZSI12A81C21CE6</td>\n",
       "      <td>1</td>\n",
       "    </tr>\n",
       "    <tr>\n",
       "      <th>182</th>\n",
       "      <td>4bd88bfb25263a75bbdd467e74018f4ae570e5df</td>\n",
       "      <td>SODCXXY12AB0187452</td>\n",
       "      <td>2</td>\n",
       "    </tr>\n",
       "    <tr>\n",
       "      <th>197</th>\n",
       "      <td>4bd88bfb25263a75bbdd467e74018f4ae570e5df</td>\n",
       "      <td>SOWPAXV12A67ADA046</td>\n",
       "      <td>18</td>\n",
       "    </tr>\n",
       "    <tr>\n",
       "      <th>304</th>\n",
       "      <td>b64cdd1a0bd907e5e00b39e345194768e330d652</td>\n",
       "      <td>SOLXDDC12A6701FBFD</td>\n",
       "      <td>1</td>\n",
       "    </tr>\n",
       "    <tr>\n",
       "      <th>308</th>\n",
       "      <td>b64cdd1a0bd907e5e00b39e345194768e330d652</td>\n",
       "      <td>SONJBQX12A6D4F8382</td>\n",
       "      <td>4</td>\n",
       "    </tr>\n",
       "    <tr>\n",
       "      <th>...</th>\n",
       "      <td>...</td>\n",
       "      <td>...</td>\n",
       "      <td>...</td>\n",
       "    </tr>\n",
       "    <tr>\n",
       "      <th>48373364</th>\n",
       "      <td>8305c896f42308824da7d4386f4b9ee584281412</td>\n",
       "      <td>SOQHWMN12A6701E2D9</td>\n",
       "      <td>1</td>\n",
       "    </tr>\n",
       "    <tr>\n",
       "      <th>48373382</th>\n",
       "      <td>8305c896f42308824da7d4386f4b9ee584281412</td>\n",
       "      <td>SOSQIHH12A8C13370B</td>\n",
       "      <td>1</td>\n",
       "    </tr>\n",
       "    <tr>\n",
       "      <th>48373405</th>\n",
       "      <td>8305c896f42308824da7d4386f4b9ee584281412</td>\n",
       "      <td>SOUCKDH12A8C138FF5</td>\n",
       "      <td>2</td>\n",
       "    </tr>\n",
       "    <tr>\n",
       "      <th>48373415</th>\n",
       "      <td>8305c896f42308824da7d4386f4b9ee584281412</td>\n",
       "      <td>SOULTKQ12AB018A183</td>\n",
       "      <td>4</td>\n",
       "    </tr>\n",
       "    <tr>\n",
       "      <th>48373519</th>\n",
       "      <td>cf8289419383259189afe6bb50c5115fd84f1064</td>\n",
       "      <td>SOIZLKI12A6D4F7B61</td>\n",
       "      <td>6</td>\n",
       "    </tr>\n",
       "  </tbody>\n",
       "</table>\n",
       "<p>772661 rows × 3 columns</p>\n",
       "</div>"
      ],
      "text/plain": [
       "                                           user_id             song_id  \\\n",
       "90        b80344d063b5ccb3212f76538f3d9e43d87dca9e  SOWEZSI12A81C21CE6   \n",
       "182       4bd88bfb25263a75bbdd467e74018f4ae570e5df  SODCXXY12AB0187452   \n",
       "197       4bd88bfb25263a75bbdd467e74018f4ae570e5df  SOWPAXV12A67ADA046   \n",
       "304       b64cdd1a0bd907e5e00b39e345194768e330d652  SOLXDDC12A6701FBFD   \n",
       "308       b64cdd1a0bd907e5e00b39e345194768e330d652  SONJBQX12A6D4F8382   \n",
       "...                                            ...                 ...   \n",
       "48373364  8305c896f42308824da7d4386f4b9ee584281412  SOQHWMN12A6701E2D9   \n",
       "48373382  8305c896f42308824da7d4386f4b9ee584281412  SOSQIHH12A8C13370B   \n",
       "48373405  8305c896f42308824da7d4386f4b9ee584281412  SOUCKDH12A8C138FF5   \n",
       "48373415  8305c896f42308824da7d4386f4b9ee584281412  SOULTKQ12AB018A183   \n",
       "48373519  cf8289419383259189afe6bb50c5115fd84f1064  SOIZLKI12A6D4F7B61   \n",
       "\n",
       "          play_counts  \n",
       "90                  1  \n",
       "182                 2  \n",
       "197                18  \n",
       "304                 1  \n",
       "308                 4  \n",
       "...               ...  \n",
       "48373364            1  \n",
       "48373382            1  \n",
       "48373405            2  \n",
       "48373415            4  \n",
       "48373519            6  \n",
       "\n",
       "[772661 rows x 3 columns]"
      ]
     },
     "execution_count": 10,
     "metadata": {},
     "output_type": "execute_result"
    }
   ],
   "source": [
    "user_subset"
   ]
  },
  {
   "cell_type": "code",
   "execution_count": 15,
   "id": "0f9fea3a",
   "metadata": {},
   "outputs": [
    {
     "data": {
      "text/plain": [
       "<AxesSubplot:ylabel='Frequency'>"
      ]
     },
     "execution_count": 15,
     "metadata": {},
     "output_type": "execute_result"
    },
    {
     "data": {
      "image/png": "[encoded data removed]",
      "text/plain": [
       "<Figure size 432x288 with 1 Axes>"
      ]
     },
     "metadata": {
      "needs_background": "light"
     },
     "output_type": "display_data"
    }
   ],
   "source": [
    "# user_playcounts = user_subset.groupby('user_id').sum('play_counts').sort_values(by = 'play_counts')\n",
    "user_subset.groupby('user_id').count()['song_id'].plot(kind='hist', bins=100)"
   ]
  },
  {
   "cell_type": "code",
   "execution_count": 19,
   "id": "eaea742a",
   "metadata": {},
   "outputs": [
    {
     "data": {
      "text/plain": [
       "418252"
      ]
     },
     "execution_count": 19,
     "metadata": {},
     "output_type": "execute_result"
    }
   ],
   "source": [
    "len(set(user_subset['user_id']))"
   ]
  },
  {
   "cell_type": "code",
   "execution_count": 23,
   "id": "d72dbc28",
   "metadata": {},
   "outputs": [],
   "source": [
    "user_song = user_subset.groupby('user_id').count()\n",
    "user_song = user_song[user_song['song_id'] >= 5]"
   ]
  },
  {
   "cell_type": "code",
   "execution_count": 35,
   "id": "e4467396",
   "metadata": {},
   "outputs": [],
   "source": [
    "user_id = list(user_song.index)\n",
    "user_subset = user_subset.loc[(user_subset['user_id'].isin(user_id))]"
   ]
  },
  {
   "cell_type": "code",
   "execution_count": 55,
   "id": "a4e2283c",
   "metadata": {},
   "outputs": [
    {
     "data": {
      "text/html": [
       "<div>\n",
       "<style scoped>\n",
       "    .dataframe tbody tr th:only-of-type {\n",
       "        vertical-align: middle;\n",
       "    }\n",
       "\n",
       "    .dataframe tbody tr th {\n",
       "        vertical-align: top;\n",
       "    }\n",
       "\n",
       "    .dataframe thead th {\n",
       "        text-align: right;\n",
       "    }\n",
       "</style>\n",
       "<table border=\"1\" class=\"dataframe\">\n",
       "  <thead>\n",
       "    <tr style=\"text-align: right;\">\n",
       "      <th></th>\n",
       "      <th>play_counts</th>\n",
       "    </tr>\n",
       "    <tr>\n",
       "      <th>user_id</th>\n",
       "      <th></th>\n",
       "    </tr>\n",
       "  </thead>\n",
       "  <tbody>\n",
       "    <tr>\n",
       "      <th>2e66a7d40cfef39d68113ab429217176e11a4c42</th>\n",
       "      <td>365</td>\n",
       "    </tr>\n",
       "    <tr>\n",
       "      <th>5d5a27d2fe3d45e515e79ddb7f70822ef5cd3600</th>\n",
       "      <td>320</td>\n",
       "    </tr>\n",
       "    <tr>\n",
       "      <th>095d3cdd061c5bb043d94a19f5dea5d96e215c9d</th>\n",
       "      <td>290</td>\n",
       "    </tr>\n",
       "    <tr>\n",
       "      <th>7816cb2b56365299a6ad4a6ea437d005c0776d2a</th>\n",
       "      <td>250</td>\n",
       "    </tr>\n",
       "    <tr>\n",
       "      <th>484734ce6667a6a25df23a961d5c5a9458afbfa1</th>\n",
       "      <td>232</td>\n",
       "    </tr>\n",
       "    <tr>\n",
       "      <th>...</th>\n",
       "      <td>...</td>\n",
       "    </tr>\n",
       "    <tr>\n",
       "      <th>13926f96e54793cc4c0bbb2b49b2665406f3baf9</th>\n",
       "      <td>5</td>\n",
       "    </tr>\n",
       "    <tr>\n",
       "      <th>bd996c09f5985bfeae6cb7eb294789818de244c5</th>\n",
       "      <td>5</td>\n",
       "    </tr>\n",
       "    <tr>\n",
       "      <th>71dcb6345592bcc8dbb7aa7d4b5adafc49c1be65</th>\n",
       "      <td>5</td>\n",
       "    </tr>\n",
       "    <tr>\n",
       "      <th>71cdf4c39f8632c3cc4b0c30187dfc98be2cd660</th>\n",
       "      <td>5</td>\n",
       "    </tr>\n",
       "    <tr>\n",
       "      <th>c9b0254a8d369828647415bca62e6af639d61b1e</th>\n",
       "      <td>5</td>\n",
       "    </tr>\n",
       "  </tbody>\n",
       "</table>\n",
       "<p>22840 rows × 1 columns</p>\n",
       "</div>"
      ],
      "text/plain": [
       "                                          play_counts\n",
       "user_id                                              \n",
       "2e66a7d40cfef39d68113ab429217176e11a4c42          365\n",
       "5d5a27d2fe3d45e515e79ddb7f70822ef5cd3600          320\n",
       "095d3cdd061c5bb043d94a19f5dea5d96e215c9d          290\n",
       "7816cb2b56365299a6ad4a6ea437d005c0776d2a          250\n",
       "484734ce6667a6a25df23a961d5c5a9458afbfa1          232\n",
       "...                                               ...\n",
       "13926f96e54793cc4c0bbb2b49b2665406f3baf9            5\n",
       "bd996c09f5985bfeae6cb7eb294789818de244c5            5\n",
       "71dcb6345592bcc8dbb7aa7d4b5adafc49c1be65            5\n",
       "71cdf4c39f8632c3cc4b0c30187dfc98be2cd660            5\n",
       "c9b0254a8d369828647415bca62e6af639d61b1e            5\n",
       "\n",
       "[22840 rows x 1 columns]"
      ]
     },
     "execution_count": 55,
     "metadata": {},
     "output_type": "execute_result"
    }
   ],
   "source": [
    "user_subset.groupby('user_id').sum('play_counts').sort_values('play_counts', ascending=False)"
   ]
  },
  {
   "cell_type": "code",
   "execution_count": 54,
   "id": "7d1fa262",
   "metadata": {},
   "outputs": [
    {
     "data": {
      "text/html": [
       "<div>\n",
       "<style scoped>\n",
       "    .dataframe tbody tr th:only-of-type {\n",
       "        vertical-align: middle;\n",
       "    }\n",
       "\n",
       "    .dataframe tbody tr th {\n",
       "        vertical-align: top;\n",
       "    }\n",
       "\n",
       "    .dataframe thead th {\n",
       "        text-align: right;\n",
       "    }\n",
       "</style>\n",
       "<table border=\"1\" class=\"dataframe\">\n",
       "  <thead>\n",
       "    <tr style=\"text-align: right;\">\n",
       "      <th></th>\n",
       "      <th>play_counts</th>\n",
       "    </tr>\n",
       "    <tr>\n",
       "      <th>song_id</th>\n",
       "      <th></th>\n",
       "    </tr>\n",
       "  </thead>\n",
       "  <tbody>\n",
       "    <tr>\n",
       "      <th>SOIZLKI12A6D4F7B61</th>\n",
       "      <td>11905</td>\n",
       "    </tr>\n",
       "    <tr>\n",
       "      <th>SOULTKQ12AB018A183</th>\n",
       "      <td>8907</td>\n",
       "    </tr>\n",
       "    <tr>\n",
       "      <th>SOEKSGJ12A67AE227E</th>\n",
       "      <td>5895</td>\n",
       "    </tr>\n",
       "    <tr>\n",
       "      <th>SOEHWGF12A6D4F8B2B</th>\n",
       "      <td>5562</td>\n",
       "    </tr>\n",
       "    <tr>\n",
       "      <th>SOUCKDH12A8C138FF5</th>\n",
       "      <td>5406</td>\n",
       "    </tr>\n",
       "    <tr>\n",
       "      <th>...</th>\n",
       "      <td>...</td>\n",
       "    </tr>\n",
       "    <tr>\n",
       "      <th>SOWISQE12A6D4F7DBB</th>\n",
       "      <td>1</td>\n",
       "    </tr>\n",
       "    <tr>\n",
       "      <th>SOAULBO12A58A7A2F8</th>\n",
       "      <td>1</td>\n",
       "    </tr>\n",
       "    <tr>\n",
       "      <th>SOCXRVU12A6D4F87A2</th>\n",
       "      <td>1</td>\n",
       "    </tr>\n",
       "    <tr>\n",
       "      <th>SOWHSLN12AB01875F0</th>\n",
       "      <td>1</td>\n",
       "    </tr>\n",
       "    <tr>\n",
       "      <th>SOFLGMJ12AB01885F6</th>\n",
       "      <td>1</td>\n",
       "    </tr>\n",
       "  </tbody>\n",
       "</table>\n",
       "<p>2939 rows × 1 columns</p>\n",
       "</div>"
      ],
      "text/plain": [
       "                    play_counts\n",
       "song_id                        \n",
       "SOIZLKI12A6D4F7B61        11905\n",
       "SOULTKQ12AB018A183         8907\n",
       "SOEKSGJ12A67AE227E         5895\n",
       "SOEHWGF12A6D4F8B2B         5562\n",
       "SOUCKDH12A8C138FF5         5406\n",
       "...                         ...\n",
       "SOWISQE12A6D4F7DBB            1\n",
       "SOAULBO12A58A7A2F8            1\n",
       "SOCXRVU12A6D4F87A2            1\n",
       "SOWHSLN12AB01875F0            1\n",
       "SOFLGMJ12AB01885F6            1\n",
       "\n",
       "[2939 rows x 1 columns]"
      ]
     },
     "execution_count": 54,
     "metadata": {},
     "output_type": "execute_result"
    }
   ],
   "source": [
    "user_subset.groupby('song_id').sum('play_counts').sort_values('play_counts', ascending=False)"
   ]
  },
  {
   "cell_type": "code",
   "execution_count": 59,
   "id": "04eaee7d",
   "metadata": {},
   "outputs": [],
   "source": [
    "user_subset.to_csv('user_subset.csv')"
   ]
  },
  {
   "cell_type": "code",
   "execution_count": 149,
   "id": "9cb70b9a",
   "metadata": {},
   "outputs": [],
   "source": [
    "def apply_to_h5(basedir,func=lambda x: x,ext='.h5'):\n",
    "\n",
    "    cnt = 0\n",
    "    for root, dirs, files in os.walk(basedir):\n",
    "        files = glob.glob(os.path.join(root,'*'+ext))\n",
    "        cnt += len(files)\n",
    "        for f in files :\n",
    "            func(f)       \n",
    "    return cnt"
   ]
  },
  {
   "cell_type": "code",
   "execution_count": 178,
   "id": "bd721f9f",
   "metadata": {},
   "outputs": [],
   "source": [
    "feature_names = ['song_id','title','song_hotness','duration','key','loudness','mode','tempo','artist','artist_hotness']\n",
    "song_id,title=[],[]\n",
    "song_hotness,duration,key=[],[],[]\n",
    "loudness,mode,tempo,artist,artist_hotness=[],[],[],[],[]\n",
    "\n",
    "def get_attr(filepath):\n",
    "    h5 = GETTERS.open_h5_file_read(filepath)\n",
    "    song_id.append(GETTERS.get_song_id(h5).decode('utf-8'))\n",
    "    title.append(GETTERS.get_title(h5).decode('utf-8'))\n",
    "    song_hotness.append(GETTERS.get_song_hotttnesss(h5))\n",
    "    duration.append(GETTERS.get_duration(h5))\n",
    "    key.append(GETTERS.get_key(h5))\n",
    "    loudness.append(GETTERS.get_loudness(h5))\n",
    "    mode.append(GETTERS.get_mode(h5))\n",
    "    tempo.append(GETTERS.get_tempo(h5))\n",
    "    artist.append(GETTERS.get_artist_name(h5).decode('utf-8'))\n",
    "    artist_hotness.append(GETTERS.get_artist_hotttnesss(h5))\n",
    "    h5.close()     "
   ]
  },
  {
   "cell_type": "code",
   "execution_count": 179,
   "id": "7c52a687",
   "metadata": {},
   "outputs": [
    {
     "name": "stdout",
     "output_type": "stream",
     "text": [
      "number of song files: 10000\n"
     ]
    }
   ],
   "source": [
    "print ('number of song files:',apply_to_h5(msd_data_path))"
   ]
  },
  {
   "cell_type": "code",
   "execution_count": 180,
   "id": "9dc0a69d",
   "metadata": {},
   "outputs": [
    {
     "name": "stdout",
     "output_type": "stream",
     "text": [
      "0:03:14.032456\n"
     ]
    }
   ],
   "source": [
    "t1 = time.time()\n",
    "apply_to_h5(msd_data_path, get_attr)\n",
    "t2 = time.time()\n",
    "# print (strtimedelta(t1,t2))"
   ]
  },
  {
   "cell_type": "code",
   "execution_count": 185,
   "id": "9dd70f75",
   "metadata": {},
   "outputs": [],
   "source": [
    "meta_data = pd.DataFrame(song_id, columns=['song_id'])\n",
    "meta_data['title'] = title\n",
    "meta_data['song_hotness'] = song_hotness\n",
    "meta_data['duration'] = duration\n",
    "meta_data['key'] = key\n",
    "meta_data['loudness'] = loudness\n",
    "meta_data['mode'] = mode\n",
    "meta_data['tempo'] = tempo\n",
    "meta_data['artist'] = artist\n",
    "meta_data['artist_hotness'] = artist_hotness"
   ]
  },
  {
   "cell_type": "code",
   "execution_count": 188,
   "id": "9622bf0c",
   "metadata": {},
   "outputs": [],
   "source": [
    "meta_data.to_csv('meta_data_subset.csv')"
   ]
  },
  {
   "cell_type": "code",
   "execution_count": null,
   "id": "df5fa402",
   "metadata": {},
   "outputs": [],
   "source": []
  },
  {
   "cell_type": "code",
   "execution_count": null,
   "id": "4e237106",
   "metadata": {},
   "outputs": [],
   "source": []
  }
 ],
 "metadata": {
  "kernelspec": {
   "display_name": "Python 3",
   "language": "python",
   "name": "python3"
  },
  "language_info": {
   "codemirror_mode": {
    "name": "ipython",
    "version": 3
   },
   "file_extension": ".py",
   "mimetype": "text/x-python",
   "name": "python",
   "nbconvert_exporter": "python",
   "pygments_lexer": "ipython3",
   "version": "3.8.8"
  }
 },
 "nbformat": 4,
 "nbformat_minor": 5
}
