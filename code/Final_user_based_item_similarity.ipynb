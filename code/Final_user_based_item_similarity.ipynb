{
 "cells": [
  {
   "cell_type": "code",
   "execution_count": 1,
   "id": "0050f3ce",
   "metadata": {},
   "outputs": [],
   "source": [
    "import pandas as pd\n",
    "import numpy as np\n",
    "from numpy.linalg import norm\n",
    "from sklearn.preprocessing import LabelEncoder, OneHotEncoder\n",
    "import sqlite3\n",
    "import seaborn as sns\n",
    "import matplotlib.pyplot as plt\n",
    "from surprise import KNNBasic\n",
    "from surprise import SVD\n",
    "from surprise import Reader, Dataset, accuracy\n",
    "from surprise.model_selection import KFold\n",
    "from sklearn.ensemble import GradientBoostingClassifier\n",
    "from sklearn.linear_model import LogisticRegression\n",
    "from sklearn.metrics import roc_auc_score\n",
    "from sklearn.model_selection import train_test_split\n",
    "from evaluation import *"
   ]
  },
  {
   "cell_type": "markdown",
   "id": "300de208",
   "metadata": {},
   "source": [
    "## I. Read in data:"
   ]
  },
  {
   "cell_type": "code",
   "execution_count": 2,
   "id": "62a1a759",
   "metadata": {},
   "outputs": [
    {
     "data": {
      "text/html": [
       "<div>\n",
       "<style scoped>\n",
       "    .dataframe tbody tr th:only-of-type {\n",
       "        vertical-align: middle;\n",
       "    }\n",
       "\n",
       "    .dataframe tbody tr th {\n",
       "        vertical-align: top;\n",
       "    }\n",
       "\n",
       "    .dataframe thead th {\n",
       "        text-align: right;\n",
       "    }\n",
       "</style>\n",
       "<table border=\"1\" class=\"dataframe\">\n",
       "  <thead>\n",
       "    <tr style=\"text-align: right;\">\n",
       "      <th></th>\n",
       "      <th>Usr</th>\n",
       "      <th>Song</th>\n",
       "      <th>Time</th>\n",
       "      <th>title</th>\n",
       "      <th>song_hotness</th>\n",
       "      <th>duration</th>\n",
       "      <th>key</th>\n",
       "      <th>loudness</th>\n",
       "      <th>mode</th>\n",
       "      <th>tempo</th>\n",
       "      <th>artist</th>\n",
       "      <th>artist_hotness</th>\n",
       "    </tr>\n",
       "  </thead>\n",
       "  <tbody>\n",
       "    <tr>\n",
       "      <th>0</th>\n",
       "      <td>5a905f000fc1ff3df7ca807d57edb608863db05d</td>\n",
       "      <td>SOEBCBI12AF72A154F</td>\n",
       "      <td>5</td>\n",
       "      <td>The Captain</td>\n",
       "      <td>NaN</td>\n",
       "      <td>368.79628</td>\n",
       "      <td>4</td>\n",
       "      <td>-11.194</td>\n",
       "      <td>0</td>\n",
       "      <td>105.02</td>\n",
       "      <td>The Knife</td>\n",
       "      <td>0.487848</td>\n",
       "    </tr>\n",
       "    <tr>\n",
       "      <th>1</th>\n",
       "      <td>761601781ea89218ebe21c4ccaa996e7a6479671</td>\n",
       "      <td>SOEBCBI12AF72A154F</td>\n",
       "      <td>1</td>\n",
       "      <td>The Captain</td>\n",
       "      <td>NaN</td>\n",
       "      <td>368.79628</td>\n",
       "      <td>4</td>\n",
       "      <td>-11.194</td>\n",
       "      <td>0</td>\n",
       "      <td>105.02</td>\n",
       "      <td>The Knife</td>\n",
       "      <td>0.487848</td>\n",
       "    </tr>\n",
       "    <tr>\n",
       "      <th>2</th>\n",
       "      <td>55fc5990fc7911cfbba36c6ae26bfa3f532d8627</td>\n",
       "      <td>SOEBCBI12AF72A154F</td>\n",
       "      <td>1</td>\n",
       "      <td>The Captain</td>\n",
       "      <td>NaN</td>\n",
       "      <td>368.79628</td>\n",
       "      <td>4</td>\n",
       "      <td>-11.194</td>\n",
       "      <td>0</td>\n",
       "      <td>105.02</td>\n",
       "      <td>The Knife</td>\n",
       "      <td>0.487848</td>\n",
       "    </tr>\n",
       "    <tr>\n",
       "      <th>3</th>\n",
       "      <td>ea11e93ba014e8ff4cf302ac548d9246f2b76918</td>\n",
       "      <td>SOEBCBI12AF72A154F</td>\n",
       "      <td>3</td>\n",
       "      <td>The Captain</td>\n",
       "      <td>NaN</td>\n",
       "      <td>368.79628</td>\n",
       "      <td>4</td>\n",
       "      <td>-11.194</td>\n",
       "      <td>0</td>\n",
       "      <td>105.02</td>\n",
       "      <td>The Knife</td>\n",
       "      <td>0.487848</td>\n",
       "    </tr>\n",
       "    <tr>\n",
       "      <th>4</th>\n",
       "      <td>e3b48b679fc7215d3c7b29c6b944b34c6019a29a</td>\n",
       "      <td>SOEBCBI12AF72A154F</td>\n",
       "      <td>1</td>\n",
       "      <td>The Captain</td>\n",
       "      <td>NaN</td>\n",
       "      <td>368.79628</td>\n",
       "      <td>4</td>\n",
       "      <td>-11.194</td>\n",
       "      <td>0</td>\n",
       "      <td>105.02</td>\n",
       "      <td>The Knife</td>\n",
       "      <td>0.487848</td>\n",
       "    </tr>\n",
       "  </tbody>\n",
       "</table>\n",
       "</div>"
      ],
      "text/plain": [
       "                                        Usr                Song  Time  \\\n",
       "0  5a905f000fc1ff3df7ca807d57edb608863db05d  SOEBCBI12AF72A154F     5   \n",
       "1  761601781ea89218ebe21c4ccaa996e7a6479671  SOEBCBI12AF72A154F     1   \n",
       "2  55fc5990fc7911cfbba36c6ae26bfa3f532d8627  SOEBCBI12AF72A154F     1   \n",
       "3  ea11e93ba014e8ff4cf302ac548d9246f2b76918  SOEBCBI12AF72A154F     3   \n",
       "4  e3b48b679fc7215d3c7b29c6b944b34c6019a29a  SOEBCBI12AF72A154F     1   \n",
       "\n",
       "         title  song_hotness   duration  key  loudness  mode   tempo  \\\n",
       "0  The Captain           NaN  368.79628    4   -11.194     0  105.02   \n",
       "1  The Captain           NaN  368.79628    4   -11.194     0  105.02   \n",
       "2  The Captain           NaN  368.79628    4   -11.194     0  105.02   \n",
       "3  The Captain           NaN  368.79628    4   -11.194     0  105.02   \n",
       "4  The Captain           NaN  368.79628    4   -11.194     0  105.02   \n",
       "\n",
       "      artist  artist_hotness  \n",
       "0  The Knife        0.487848  \n",
       "1  The Knife        0.487848  \n",
       "2  The Knife        0.487848  \n",
       "3  The Knife        0.487848  \n",
       "4  The Knife        0.487848  "
      ]
     },
     "execution_count": 2,
     "metadata": {},
     "output_type": "execute_result"
    }
   ],
   "source": [
    "data=pd.read_csv('user_subset.csv')\n",
    "song = pd.read_csv('meta_data_subset.csv')\n",
    "data, song = data.iloc[:,1:], song.iloc[:,1:]\n",
    "song = song.rename(columns = {'song_id':'Song'})\n",
    "data = pd.merge(data, song, how = 'inner', on = 'Song')\n",
    "data.head()"
   ]
  },
  {
   "cell_type": "code",
   "execution_count": 3,
   "id": "c242393a",
   "metadata": {},
   "outputs": [
    {
     "name": "stdout",
     "output_type": "stream",
     "text": [
      "<class 'pandas.core.frame.DataFrame'>\n",
      "Int64Index: 151057 entries, 0 to 151056\n",
      "Data columns (total 12 columns):\n",
      " #   Column          Non-Null Count   Dtype  \n",
      "---  ------          --------------   -----  \n",
      " 0   Usr             151057 non-null  object \n",
      " 1   Song            151057 non-null  object \n",
      " 2   Time            151057 non-null  int64  \n",
      " 3   title           151057 non-null  object \n",
      " 4   song_hotness    133813 non-null  float64\n",
      " 5   duration        151057 non-null  float64\n",
      " 6   key             151057 non-null  int64  \n",
      " 7   loudness        151057 non-null  float64\n",
      " 8   mode            151057 non-null  int64  \n",
      " 9   tempo           151057 non-null  float64\n",
      " 10  artist          151057 non-null  object \n",
      " 11  artist_hotness  151057 non-null  float64\n",
      "dtypes: float64(5), int64(3), object(4)\n",
      "memory usage: 15.0+ MB\n"
     ]
    }
   ],
   "source": [
    "data.info()"
   ]
  },
  {
   "cell_type": "code",
   "execution_count": 4,
   "id": "80611b7e",
   "metadata": {},
   "outputs": [
    {
     "data": {
      "text/html": [
       "<div>\n",
       "<style scoped>\n",
       "    .dataframe tbody tr th:only-of-type {\n",
       "        vertical-align: middle;\n",
       "    }\n",
       "\n",
       "    .dataframe tbody tr th {\n",
       "        vertical-align: top;\n",
       "    }\n",
       "\n",
       "    .dataframe thead th {\n",
       "        text-align: right;\n",
       "    }\n",
       "</style>\n",
       "<table border=\"1\" class=\"dataframe\">\n",
       "  <thead>\n",
       "    <tr style=\"text-align: right;\">\n",
       "      <th></th>\n",
       "      <th>Usr</th>\n",
       "      <th>Song</th>\n",
       "      <th>Time</th>\n",
       "      <th>title</th>\n",
       "      <th>song_hotness</th>\n",
       "      <th>duration</th>\n",
       "      <th>key</th>\n",
       "      <th>loudness</th>\n",
       "      <th>mode</th>\n",
       "      <th>tempo</th>\n",
       "      <th>artist</th>\n",
       "      <th>artist_hotness</th>\n",
       "    </tr>\n",
       "  </thead>\n",
       "  <tbody>\n",
       "    <tr>\n",
       "      <th>0</th>\n",
       "      <td>8021</td>\n",
       "      <td>519</td>\n",
       "      <td>5</td>\n",
       "      <td>The Captain</td>\n",
       "      <td>NaN</td>\n",
       "      <td>368.79628</td>\n",
       "      <td>4</td>\n",
       "      <td>-11.194</td>\n",
       "      <td>0</td>\n",
       "      <td>105.020</td>\n",
       "      <td>The Knife</td>\n",
       "      <td>0.487848</td>\n",
       "    </tr>\n",
       "    <tr>\n",
       "      <th>1</th>\n",
       "      <td>10432</td>\n",
       "      <td>519</td>\n",
       "      <td>1</td>\n",
       "      <td>The Captain</td>\n",
       "      <td>NaN</td>\n",
       "      <td>368.79628</td>\n",
       "      <td>4</td>\n",
       "      <td>-11.194</td>\n",
       "      <td>0</td>\n",
       "      <td>105.020</td>\n",
       "      <td>The Knife</td>\n",
       "      <td>0.487848</td>\n",
       "    </tr>\n",
       "    <tr>\n",
       "      <th>2</th>\n",
       "      <td>7609</td>\n",
       "      <td>519</td>\n",
       "      <td>1</td>\n",
       "      <td>The Captain</td>\n",
       "      <td>NaN</td>\n",
       "      <td>368.79628</td>\n",
       "      <td>4</td>\n",
       "      <td>-11.194</td>\n",
       "      <td>0</td>\n",
       "      <td>105.020</td>\n",
       "      <td>The Knife</td>\n",
       "      <td>0.487848</td>\n",
       "    </tr>\n",
       "    <tr>\n",
       "      <th>3</th>\n",
       "      <td>20892</td>\n",
       "      <td>519</td>\n",
       "      <td>3</td>\n",
       "      <td>The Captain</td>\n",
       "      <td>NaN</td>\n",
       "      <td>368.79628</td>\n",
       "      <td>4</td>\n",
       "      <td>-11.194</td>\n",
       "      <td>0</td>\n",
       "      <td>105.020</td>\n",
       "      <td>The Knife</td>\n",
       "      <td>0.487848</td>\n",
       "    </tr>\n",
       "    <tr>\n",
       "      <th>4</th>\n",
       "      <td>20336</td>\n",
       "      <td>519</td>\n",
       "      <td>1</td>\n",
       "      <td>The Captain</td>\n",
       "      <td>NaN</td>\n",
       "      <td>368.79628</td>\n",
       "      <td>4</td>\n",
       "      <td>-11.194</td>\n",
       "      <td>0</td>\n",
       "      <td>105.020</td>\n",
       "      <td>The Knife</td>\n",
       "      <td>0.487848</td>\n",
       "    </tr>\n",
       "    <tr>\n",
       "      <th>...</th>\n",
       "      <td>...</td>\n",
       "      <td>...</td>\n",
       "      <td>...</td>\n",
       "      <td>...</td>\n",
       "      <td>...</td>\n",
       "      <td>...</td>\n",
       "      <td>...</td>\n",
       "      <td>...</td>\n",
       "      <td>...</td>\n",
       "      <td>...</td>\n",
       "      <td>...</td>\n",
       "      <td>...</td>\n",
       "    </tr>\n",
       "    <tr>\n",
       "      <th>151052</th>\n",
       "      <td>15128</td>\n",
       "      <td>1922</td>\n",
       "      <td>2</td>\n",
       "      <td>Intensity In Ten Cities</td>\n",
       "      <td>0.547953</td>\n",
       "      <td>247.48363</td>\n",
       "      <td>7</td>\n",
       "      <td>-3.402</td>\n",
       "      <td>1</td>\n",
       "      <td>231.851</td>\n",
       "      <td>Embrace the End</td>\n",
       "      <td>0.420177</td>\n",
       "    </tr>\n",
       "    <tr>\n",
       "      <th>151053</th>\n",
       "      <td>11818</td>\n",
       "      <td>1615</td>\n",
       "      <td>3</td>\n",
       "      <td>Cabiria</td>\n",
       "      <td>0.473347</td>\n",
       "      <td>203.96363</td>\n",
       "      <td>0</td>\n",
       "      <td>-10.881</td>\n",
       "      <td>1</td>\n",
       "      <td>132.073</td>\n",
       "      <td>Hot Club Of Cowtown</td>\n",
       "      <td>0.389848</td>\n",
       "    </tr>\n",
       "    <tr>\n",
       "      <th>151054</th>\n",
       "      <td>9494</td>\n",
       "      <td>1543</td>\n",
       "      <td>1</td>\n",
       "      <td>Safe Passage</td>\n",
       "      <td>0.265861</td>\n",
       "      <td>330.97098</td>\n",
       "      <td>7</td>\n",
       "      <td>-16.934</td>\n",
       "      <td>1</td>\n",
       "      <td>101.529</td>\n",
       "      <td>Michael Gettel</td>\n",
       "      <td>0.333771</td>\n",
       "    </tr>\n",
       "    <tr>\n",
       "      <th>151055</th>\n",
       "      <td>9494</td>\n",
       "      <td>2823</td>\n",
       "      <td>1</td>\n",
       "      <td>River Run</td>\n",
       "      <td>0.262309</td>\n",
       "      <td>452.25751</td>\n",
       "      <td>1</td>\n",
       "      <td>-16.685</td>\n",
       "      <td>0</td>\n",
       "      <td>168.035</td>\n",
       "      <td>Michael Gettel</td>\n",
       "      <td>0.333771</td>\n",
       "    </tr>\n",
       "    <tr>\n",
       "      <th>151056</th>\n",
       "      <td>4927</td>\n",
       "      <td>241</td>\n",
       "      <td>2</td>\n",
       "      <td>After All The Love Is Gone</td>\n",
       "      <td>0.382935</td>\n",
       "      <td>256.67873</td>\n",
       "      <td>0</td>\n",
       "      <td>-10.223</td>\n",
       "      <td>1</td>\n",
       "      <td>120.093</td>\n",
       "      <td>Alias</td>\n",
       "      <td>0.423022</td>\n",
       "    </tr>\n",
       "  </tbody>\n",
       "</table>\n",
       "<p>151057 rows × 12 columns</p>\n",
       "</div>"
      ],
      "text/plain": [
       "          Usr  Song  Time                       title  song_hotness  \\\n",
       "0        8021   519     5                 The Captain           NaN   \n",
       "1       10432   519     1                 The Captain           NaN   \n",
       "2        7609   519     1                 The Captain           NaN   \n",
       "3       20892   519     3                 The Captain           NaN   \n",
       "4       20336   519     1                 The Captain           NaN   \n",
       "...       ...   ...   ...                         ...           ...   \n",
       "151052  15128  1922     2     Intensity In Ten Cities      0.547953   \n",
       "151053  11818  1615     3                     Cabiria      0.473347   \n",
       "151054   9494  1543     1                Safe Passage      0.265861   \n",
       "151055   9494  2823     1                   River Run      0.262309   \n",
       "151056   4927   241     2  After All The Love Is Gone      0.382935   \n",
       "\n",
       "         duration  key  loudness  mode    tempo               artist  \\\n",
       "0       368.79628    4   -11.194     0  105.020            The Knife   \n",
       "1       368.79628    4   -11.194     0  105.020            The Knife   \n",
       "2       368.79628    4   -11.194     0  105.020            The Knife   \n",
       "3       368.79628    4   -11.194     0  105.020            The Knife   \n",
       "4       368.79628    4   -11.194     0  105.020            The Knife   \n",
       "...           ...  ...       ...   ...      ...                  ...   \n",
       "151052  247.48363    7    -3.402     1  231.851      Embrace the End   \n",
       "151053  203.96363    0   -10.881     1  132.073  Hot Club Of Cowtown   \n",
       "151054  330.97098    7   -16.934     1  101.529       Michael Gettel   \n",
       "151055  452.25751    1   -16.685     0  168.035       Michael Gettel   \n",
       "151056  256.67873    0   -10.223     1  120.093                Alias   \n",
       "\n",
       "        artist_hotness  \n",
       "0             0.487848  \n",
       "1             0.487848  \n",
       "2             0.487848  \n",
       "3             0.487848  \n",
       "4             0.487848  \n",
       "...                ...  \n",
       "151052        0.420177  \n",
       "151053        0.389848  \n",
       "151054        0.333771  \n",
       "151055        0.333771  \n",
       "151056        0.423022  \n",
       "\n",
       "[151057 rows x 12 columns]"
      ]
     },
     "execution_count": 4,
     "metadata": {},
     "output_type": "execute_result"
    }
   ],
   "source": [
    "# labeling and encoding:\n",
    "user_encoder = LabelEncoder()\n",
    "data['Usr'] = user_encoder.fit_transform(data['Usr'].values)\n",
    "\n",
    "song_encoder = LabelEncoder()\n",
    "data['Song'] = song_encoder.fit_transform(data['Song'].values)\n",
    "data.astype({'Usr': 'int32', 'Song': 'int32', 'Time': 'int32'})"
   ]
  },
  {
   "cell_type": "markdown",
   "id": "dd2059dc",
   "metadata": {},
   "source": [
    "## II. Train test split:"
   ]
  },
  {
   "cell_type": "code",
   "execution_count": 5,
   "id": "793768e2",
   "metadata": {},
   "outputs": [],
   "source": [
    "user_id = data['Usr'].unique()\n",
    "train_uid,test_uid = user_id[:22700],user_id[22700:]\n",
    "train = data[data['Usr'].isin(train_uid)]\n",
    "song_id = train['Song'].unique()\n",
    "\n",
    "# Test user only keep songs have overlap with train user song lists, and delete user with personal songlist < 4:\n",
    "test = data[data['Usr'].isin(test_uid) & data['Song'].isin(song_id)]\n",
    "temp = test.groupby('Usr').count()['Song'].reset_index()\n",
    "uid = temp[temp['Song'] >= 4]['Usr']\n",
    "del temp\n",
    "test = test[test['Usr'].isin(uid)]"
   ]
  },
  {
   "cell_type": "code",
   "execution_count": 6,
   "id": "3c803a0a",
   "metadata": {},
   "outputs": [],
   "source": [
    "# For each test user, keep 2 songs as known; And other songs in the song list as hidden songs.\n",
    "# The hidden songs will be used to test the performance of the recommendation system later.\n",
    "\n",
    "# X: For user based recommendation\n",
    "# user_hidden_songs: test user and hidden song list.\n",
    "user_song = {}\n",
    "for user, group in test.groupby('Usr'):\n",
    "    user_song[user] = group['Song'].values.tolist()    \n",
    "test1 = []\n",
    "for user in user_song:\n",
    "    for i in range(2):\n",
    "        test1.append(test[(test['Usr']==user)&(test['Song']==user_song[user][i])].squeeze())\n",
    "test1 = pd.DataFrame(test1)\n",
    "X = pd.concat([train,test1])\n",
    "del test1\n",
    "del train\n",
    "\n",
    "test_hidden = []\n",
    "for user in user_song:\n",
    "    for i in range(2,len(user_song[user])):\n",
    "        test_hidden.append(test[(test['Usr']==user)&(test['Song']==user_song[user][i])].squeeze())\n",
    "test_hidden = pd.DataFrame(test_hidden)[['Usr','Song']]\n",
    "\n",
    "user_hidden_songs = {}\n",
    "for user, group in test_hidden.groupby('Usr'):\n",
    "    user_hidden_songs[user] = group['Song'].values.tolist()\n",
    "del test_hidden"
   ]
  },
  {
   "cell_type": "markdown",
   "id": "97fc41ee",
   "metadata": {},
   "source": [
    "## III. EDA"
   ]
  },
  {
   "cell_type": "code",
   "execution_count": 7,
   "id": "21697780",
   "metadata": {},
   "outputs": [],
   "source": [
    "# Distribution of playcounts per user (user_playcounts)\n",
    "user_playcounts = {}\n",
    "for user, group in X.groupby('Usr'):\n",
    "    user_playcounts[user] = group['Time'].sum()"
   ]
  },
  {
   "cell_type": "code",
   "execution_count": 8,
   "id": "9e2eaa66",
   "metadata": {},
   "outputs": [
    {
     "name": "stderr",
     "output_type": "stream",
     "text": [
      "/Users/hyw/opt/anaconda3/lib/python3.8/site-packages/seaborn/distributions.py:2557: FutureWarning: `distplot` is a deprecated function and will be removed in a future version. Please adapt your code to use either `displot` (a figure-level function with similar flexibility) or `histplot` (an axes-level function for histograms).\n",
      "  warnings.warn(msg, FutureWarning)\n"
     ]
    },
    {
     "data": {
      "image/png": "[encoded data removed]",
      "text/plain": [
       "<Figure size 432x288 with 1 Axes>"
      ]
     },
     "metadata": {
      "needs_background": "light"
     },
     "output_type": "display_data"
    }
   ],
   "source": [
    "sns.distplot(list(user_playcounts.values()), bins=5000, kde=False)\n",
    "plt.xlim(0, 200)\n",
    "plt.xlabel('play_count')\n",
    "plt.ylabel('nums of user')\n",
    "plt.show()"
   ]
  },
  {
   "cell_type": "code",
   "execution_count": 9,
   "id": "d4caf11c",
   "metadata": {},
   "outputs": [],
   "source": [
    "# Distribution of playcounts per song (song_playcounts)\n",
    "song_playcounts = {}\n",
    "for song, group in X.groupby('Song'):\n",
    "    song_playcounts[song] = group['Time'].sum() "
   ]
  },
  {
   "cell_type": "code",
   "execution_count": 10,
   "id": "852d29ec",
   "metadata": {},
   "outputs": [
    {
     "data": {
      "image/png": "[encoded data removed]",
      "text/plain": [
       "<Figure size 432x288 with 1 Axes>"
      ]
     },
     "metadata": {
      "needs_background": "light"
     },
     "output_type": "display_data"
    }
   ],
   "source": [
    "sns.distplot(list(song_playcounts.values()), bins=10000, kde=False)\n",
    "plt.xlim(0, 100)\n",
    "plt.xlabel('play_count')\n",
    "plt.ylabel('nums of song')\n",
    "plt.show()"
   ]
  },
  {
   "cell_type": "code",
   "execution_count": 11,
   "id": "bda842fa",
   "metadata": {},
   "outputs": [],
   "source": [
    "user_averageScore = {}\n",
    "for Usr, group in X.groupby('Usr'):\n",
    "    user_averageScore[Usr] = group['Time'].mean()"
   ]
  },
  {
   "cell_type": "code",
   "execution_count": 12,
   "id": "4445665d",
   "metadata": {},
   "outputs": [],
   "source": [
    "X['rating'] = X.apply(lambda x: np.log(2 + x.Time / user_averageScore[x.Usr]), axis=1)"
   ]
  },
  {
   "cell_type": "code",
   "execution_count": 13,
   "id": "b89eb4ed",
   "metadata": {},
   "outputs": [
    {
     "data": {
      "image/png": "[encoded data removed]",
      "text/plain": [
       "<Figure size 432x288 with 1 Axes>"
      ]
     },
     "metadata": {
      "needs_background": "light"
     },
     "output_type": "display_data"
    }
   ],
   "source": [
    "sns.distplot(X['rating'].values, bins=100)\n",
    "plt.show()"
   ]
  },
  {
   "cell_type": "code",
   "execution_count": 14,
   "id": "ac9aa537",
   "metadata": {},
   "outputs": [],
   "source": [
    "user_item_rating = X[['Usr', 'Song', 'rating']]\n",
    "user_item_rating = user_item_rating.rename(columns={'Song': 'item'})"
   ]
  },
  {
   "cell_type": "code",
   "execution_count": 15,
   "id": "8bb6b444",
   "metadata": {},
   "outputs": [],
   "source": [
    "# User and their corresponding song list\n",
    "user_songs = {}\n",
    "for user, group in user_item_rating.groupby('Usr'):\n",
    "    user_songs[user] = group['item'].values.tolist()\n",
    "\n",
    "# unique songs\n",
    "songs = user_item_rating['item'].unique().tolist()"
   ]
  },
  {
   "cell_type": "code",
   "execution_count": 16,
   "id": "d858f5f0",
   "metadata": {},
   "outputs": [
    {
     "data": {
      "text/html": [
       "<div>\n",
       "<style scoped>\n",
       "    .dataframe tbody tr th:only-of-type {\n",
       "        vertical-align: middle;\n",
       "    }\n",
       "\n",
       "    .dataframe tbody tr th {\n",
       "        vertical-align: top;\n",
       "    }\n",
       "\n",
       "    .dataframe thead th {\n",
       "        text-align: right;\n",
       "    }\n",
       "</style>\n",
       "<table border=\"1\" class=\"dataframe\">\n",
       "  <thead>\n",
       "    <tr style=\"text-align: right;\">\n",
       "      <th></th>\n",
       "      <th>Usr</th>\n",
       "      <th>item</th>\n",
       "      <th>rating</th>\n",
       "    </tr>\n",
       "  </thead>\n",
       "  <tbody>\n",
       "    <tr>\n",
       "      <th>0</th>\n",
       "      <td>8021</td>\n",
       "      <td>519</td>\n",
       "      <td>1.452252</td>\n",
       "    </tr>\n",
       "    <tr>\n",
       "      <th>1</th>\n",
       "      <td>10432</td>\n",
       "      <td>519</td>\n",
       "      <td>0.897942</td>\n",
       "    </tr>\n",
       "    <tr>\n",
       "      <th>2</th>\n",
       "      <td>7609</td>\n",
       "      <td>519</td>\n",
       "      <td>1.098612</td>\n",
       "    </tr>\n",
       "    <tr>\n",
       "      <th>3</th>\n",
       "      <td>20892</td>\n",
       "      <td>519</td>\n",
       "      <td>1.038508</td>\n",
       "    </tr>\n",
       "    <tr>\n",
       "      <th>4</th>\n",
       "      <td>20336</td>\n",
       "      <td>519</td>\n",
       "      <td>0.969401</td>\n",
       "    </tr>\n",
       "  </tbody>\n",
       "</table>\n",
       "</div>"
      ],
      "text/plain": [
       "     Usr  item    rating\n",
       "0   8021   519  1.452252\n",
       "1  10432   519  0.897942\n",
       "2   7609   519  1.098612\n",
       "3  20892   519  1.038508\n",
       "4  20336   519  0.969401"
      ]
     },
     "execution_count": 16,
     "metadata": {},
     "output_type": "execute_result"
    }
   ],
   "source": [
    "user_item_rating.head()"
   ]
  },
  {
   "cell_type": "markdown",
   "id": "50dd834a",
   "metadata": {},
   "source": [
    "## IV. Recommendation"
   ]
  },
  {
   "cell_type": "markdown",
   "id": "c30acbed",
   "metadata": {},
   "source": [
    "#### 1. User based recall"
   ]
  },
  {
   "cell_type": "code",
   "execution_count": 17,
   "id": "8943becf",
   "metadata": {},
   "outputs": [
    {
     "name": "stdout",
     "output_type": "stream",
     "text": [
      "Computing the msd similarity matrix...\n",
      "Done computing similarity matrix.\n",
      "Computing the msd similarity matrix...\n",
      "Done computing similarity matrix.\n"
     ]
    }
   ],
   "source": [
    "# User based Collaborative Filtering:\n",
    "\n",
    "reader = Reader(line_format='user item rating', sep=',')\n",
    "raw_data = Dataset.load_from_df(user_item_rating, reader=reader)\n",
    "kf = KFold(n_splits=2)\n",
    "knn_usercf = KNNBasic(k=40, sim_options={'user_based': True})\n",
    "for trainset, testset in kf.split(raw_data):\n",
    "    knn_usercf.fit(trainset)"
   ]
  },
  {
   "cell_type": "markdown",
   "id": "d4479ed0",
   "metadata": {},
   "source": [
    "#### 2. Content-based sorting"
   ]
  },
  {
   "cell_type": "code",
   "execution_count": 18,
   "id": "4fbc07cc",
   "metadata": {},
   "outputs": [],
   "source": [
    "from sklearn.preprocessing import StandardScaler\n",
    "attr = X.drop(['Usr', 'title', 'Time', 'song_hotness', 'artist'], axis=1).drop_duplicates().set_index('Song')\n",
    "scaler = StandardScaler()\n",
    "attr_std = scaler.fit_transform(attr)\n",
    "attr_df = pd.DataFrame(attr_std, index=attr.index, columns=attr.columns)\n",
    "\n",
    "# (song_id, title)\n",
    "song_title = dict(zip(data['Song'], data['title']))\n",
    "# (song_id, normalized metadata attributes)\n",
    "song_attr = dict(zip(attr_df.index, attr_df.values.tolist()))"
   ]
  },
  {
   "cell_type": "code",
   "execution_count": 19,
   "id": "0f5f3b06",
   "metadata": {},
   "outputs": [],
   "source": [
    "# Content based similarity sorting:\n",
    "def content_based_sorting(rec_items, used_items):\n",
    "    \n",
    "    # Calc cosine similarity:\n",
    "    def cosine_sim(x, y):\n",
    "        x,y = np.array(x), np.array(y)\n",
    "        return np.dot(x, y)/(norm(x)*norm(y))\n",
    "    \n",
    "    # (song, total similarity between current song and all songs in user historic song list):\n",
    "    sim = {}\n",
    "    for sid in rec_items:\n",
    "        sim[sid] = sum([cosine_sim(song_attr[sid], song_attr[ssid]) for ssid in used_items])\n",
    "    song_ids = dict(sorted(sim.items(), key=lambda x: x[1], reverse=True))\n",
    "    return list(song_ids.keys())"
   ]
  },
  {
   "cell_type": "markdown",
   "id": "1b62d3d0",
   "metadata": {},
   "source": [
    "#### 3. Final recommender"
   ]
  },
  {
   "cell_type": "code",
   "execution_count": 20,
   "id": "ddcf0da8",
   "metadata": {},
   "outputs": [],
   "source": [
    "# Return a song list based on User CF and sorting by different criteria:\n",
    "def recommendation_basedonUserCF(userID, N=2906, sorting = 'item_sim'):\n",
    "    used_items = user_songs[userID]\n",
    "    item_ratings = {}\n",
    "    for item in songs:\n",
    "        if item not in used_items:\n",
    "            item_ratings[item] = knn_usercf.predict(userID, item).est\n",
    "    song_ids = dict(sorted(item_ratings.items(), key=lambda x: x[1], reverse=True)[:N])\n",
    "    if sorting == 'item_sim':\n",
    "        return content_based_sorting(list(song_ids.keys()), used_items)\n",
    "    return list(song_ids.keys())"
   ]
  },
  {
   "cell_type": "markdown",
   "id": "2fd517d7",
   "metadata": {},
   "source": [
    "## V. Performance Evaluation:"
   ]
  },
  {
   "cell_type": "code",
   "execution_count": 21,
   "id": "649964ea",
   "metadata": {},
   "outputs": [
    {
     "name": "stdout",
     "output_type": "stream",
     "text": [
      "The average accuracy of 50 recommended song list: 0.005714285714285714\n"
     ]
    }
   ],
   "source": [
    "## I. Accuracy Score\n",
    "acc = [acc_score(recommendation_basedonUserCF(k,N=50),user_hidden_songs[k]) for k in user_hidden_songs]\n",
    "print('The average accuracy of 50 recommended song list:', np.mean(acc))"
   ]
  },
  {
   "cell_type": "code",
   "execution_count": 22,
   "id": "78f6692e",
   "metadata": {},
   "outputs": [
    {
     "name": "stdout",
     "output_type": "stream",
     "text": [
      "The average mean precision based on item similarity sorting: 0.08270241218384498\n",
      "The average mean precision based on raw user rating sorting: 0.08941462808810677\n"
     ]
    }
   ],
   "source": [
    "## II. mean precision:\n",
    "mean_pre_1 = [mean_precision(recommendation_basedonUserCF(k),user_hidden_songs[k]) for k in user_hidden_songs]\n",
    "mean_pre_2 = [mean_precision(recommendation_basedonUserCF(k,sorting='Default'),user_hidden_songs[k]) for k in user_hidden_songs]\n",
    "\n",
    "print('The average mean precision based on item similarity sorting:', np.mean(mean_pre_1))\n",
    "print('The average mean precision based on raw user rating sorting:', np.mean(mean_pre_2))"
   ]
  },
  {
   "cell_type": "code",
   "execution_count": 23,
   "id": "f40fee16",
   "metadata": {},
   "outputs": [
    {
     "name": "stdout",
     "output_type": "stream",
     "text": [
      "The average normalized precision based on item similarity sorting: 0.2579409553628042\n",
      "The average normalized precision based on raw user rating sorting: 0.20218176539006003\n"
     ]
    }
   ],
   "source": [
    "norm_pre_1 = [norm_precision(recommendation_basedonUserCF(k),user_hidden_songs[k]) for k in user_hidden_songs]\n",
    "norm_pre_2 = [norm_precision(recommendation_basedonUserCF(k,sorting='Default'),user_hidden_songs[k]) for k in user_hidden_songs]\n",
    "\n",
    "print('The average normalized precision based on item similarity sorting:', np.mean(norm_pre_1))\n",
    "print('The average normalized precision based on raw user rating sorting:', np.mean(norm_pre_2))"
   ]
  },
  {
   "cell_type": "code",
   "execution_count": null,
   "id": "a21cb231",
   "metadata": {},
   "outputs": [],
   "source": []
  }
 ],
 "metadata": {
  "kernelspec": {
   "display_name": "Python 3",
   "language": "python",
   "name": "python3"
  },
  "language_info": {
   "codemirror_mode": {
    "name": "ipython",
    "version": 3
   },
   "file_extension": ".py",
   "mimetype": "text/x-python",
   "name": "python",
   "nbconvert_exporter": "python",
   "pygments_lexer": "ipython3",
   "version": "3.8.8"
  }
 },
 "nbformat": 4,
 "nbformat_minor": 5
}
