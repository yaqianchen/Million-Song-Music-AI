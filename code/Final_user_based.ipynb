{
 "cells": [
  {
   "cell_type": "code",
   "execution_count": 12,
   "id": "0050f3ce",
   "metadata": {},
   "outputs": [],
   "source": [
    "import pandas as pd\n",
    "import numpy as np\n",
    "from sklearn.preprocessing import LabelEncoder, OneHotEncoder\n",
    "import sqlite3\n",
    "import seaborn as sns\n",
    "import matplotlib.pyplot as plt\n",
    "from surprise import KNNBasic\n",
    "from surprise import SVD\n",
    "from surprise import Reader, Dataset, accuracy\n",
    "from surprise.model_selection import KFold\n",
    "from sklearn.ensemble import GradientBoostingClassifier\n",
    "from sklearn.linear_model import LogisticRegression\n",
    "from sklearn.metrics import roc_auc_score\n",
    "from sklearn.model_selection import train_test_split"
   ]
  },
  {
   "cell_type": "code",
   "execution_count": 13,
   "id": "62a1a759",
   "metadata": {},
   "outputs": [
    {
     "data": {
      "text/html": [
       "<div>\n",
       "<style scoped>\n",
       "    .dataframe tbody tr th:only-of-type {\n",
       "        vertical-align: middle;\n",
       "    }\n",
       "\n",
       "    .dataframe tbody tr th {\n",
       "        vertical-align: top;\n",
       "    }\n",
       "\n",
       "    .dataframe thead th {\n",
       "        text-align: right;\n",
       "    }\n",
       "</style>\n",
       "<table border=\"1\" class=\"dataframe\">\n",
       "  <thead>\n",
       "    <tr style=\"text-align: right;\">\n",
       "      <th></th>\n",
       "      <th>Unnamed: 0</th>\n",
       "      <th>Usr</th>\n",
       "      <th>Song</th>\n",
       "      <th>Time</th>\n",
       "    </tr>\n",
       "  </thead>\n",
       "  <tbody>\n",
       "    <tr>\n",
       "      <th>0</th>\n",
       "      <td>630</td>\n",
       "      <td>5a905f000fc1ff3df7ca807d57edb608863db05d</td>\n",
       "      <td>SOEBCBI12AF72A154F</td>\n",
       "      <td>5</td>\n",
       "    </tr>\n",
       "    <tr>\n",
       "      <th>1</th>\n",
       "      <td>658</td>\n",
       "      <td>5a905f000fc1ff3df7ca807d57edb608863db05d</td>\n",
       "      <td>SOFKTPP12A8C1385CA</td>\n",
       "      <td>1</td>\n",
       "    </tr>\n",
       "    <tr>\n",
       "      <th>2</th>\n",
       "      <td>670</td>\n",
       "      <td>5a905f000fc1ff3df7ca807d57edb608863db05d</td>\n",
       "      <td>SOGJPMB12A8C13A9DB</td>\n",
       "      <td>1</td>\n",
       "    </tr>\n",
       "    <tr>\n",
       "      <th>3</th>\n",
       "      <td>919</td>\n",
       "      <td>5a905f000fc1ff3df7ca807d57edb608863db05d</td>\n",
       "      <td>SOUCKDH12A8C138FF5</td>\n",
       "      <td>2</td>\n",
       "    </tr>\n",
       "    <tr>\n",
       "      <th>4</th>\n",
       "      <td>1005</td>\n",
       "      <td>5a905f000fc1ff3df7ca807d57edb608863db05d</td>\n",
       "      <td>SOZOEYP12AB0188C9D</td>\n",
       "      <td>2</td>\n",
       "    </tr>\n",
       "  </tbody>\n",
       "</table>\n",
       "</div>"
      ],
      "text/plain": [
       "   Unnamed: 0                                       Usr                Song  \\\n",
       "0         630  5a905f000fc1ff3df7ca807d57edb608863db05d  SOEBCBI12AF72A154F   \n",
       "1         658  5a905f000fc1ff3df7ca807d57edb608863db05d  SOFKTPP12A8C1385CA   \n",
       "2         670  5a905f000fc1ff3df7ca807d57edb608863db05d  SOGJPMB12A8C13A9DB   \n",
       "3         919  5a905f000fc1ff3df7ca807d57edb608863db05d  SOUCKDH12A8C138FF5   \n",
       "4        1005  5a905f000fc1ff3df7ca807d57edb608863db05d  SOZOEYP12AB0188C9D   \n",
       "\n",
       "   Time  \n",
       "0     5  \n",
       "1     1  \n",
       "2     1  \n",
       "3     2  \n",
       "4     2  "
      ]
     },
     "execution_count": 13,
     "metadata": {},
     "output_type": "execute_result"
    }
   ],
   "source": [
    "data=pd.read_csv('dataset/user_subset.csv')\n",
    "data.head()"
   ]
  },
  {
   "cell_type": "code",
   "execution_count": 14,
   "id": "80611b7e",
   "metadata": {},
   "outputs": [
    {
     "data": {
      "text/html": [
       "<div>\n",
       "<style scoped>\n",
       "    .dataframe tbody tr th:only-of-type {\n",
       "        vertical-align: middle;\n",
       "    }\n",
       "\n",
       "    .dataframe tbody tr th {\n",
       "        vertical-align: top;\n",
       "    }\n",
       "\n",
       "    .dataframe thead th {\n",
       "        text-align: right;\n",
       "    }\n",
       "</style>\n",
       "<table border=\"1\" class=\"dataframe\">\n",
       "  <thead>\n",
       "    <tr style=\"text-align: right;\">\n",
       "      <th></th>\n",
       "      <th>Unnamed: 0</th>\n",
       "      <th>Usr</th>\n",
       "      <th>Song</th>\n",
       "      <th>Time</th>\n",
       "    </tr>\n",
       "  </thead>\n",
       "  <tbody>\n",
       "    <tr>\n",
       "      <th>0</th>\n",
       "      <td>630</td>\n",
       "      <td>8021</td>\n",
       "      <td>519</td>\n",
       "      <td>5</td>\n",
       "    </tr>\n",
       "    <tr>\n",
       "      <th>1</th>\n",
       "      <td>658</td>\n",
       "      <td>8021</td>\n",
       "      <td>679</td>\n",
       "      <td>1</td>\n",
       "    </tr>\n",
       "    <tr>\n",
       "      <th>2</th>\n",
       "      <td>670</td>\n",
       "      <td>8021</td>\n",
       "      <td>804</td>\n",
       "      <td>1</td>\n",
       "    </tr>\n",
       "    <tr>\n",
       "      <th>3</th>\n",
       "      <td>919</td>\n",
       "      <td>8021</td>\n",
       "      <td>2354</td>\n",
       "      <td>2</td>\n",
       "    </tr>\n",
       "    <tr>\n",
       "      <th>4</th>\n",
       "      <td>1005</td>\n",
       "      <td>8021</td>\n",
       "      <td>2897</td>\n",
       "      <td>2</td>\n",
       "    </tr>\n",
       "    <tr>\n",
       "      <th>...</th>\n",
       "      <td>...</td>\n",
       "      <td>...</td>\n",
       "      <td>...</td>\n",
       "      <td>...</td>\n",
       "    </tr>\n",
       "    <tr>\n",
       "      <th>151052</th>\n",
       "      <td>48373339</td>\n",
       "      <td>11587</td>\n",
       "      <td>1642</td>\n",
       "      <td>1</td>\n",
       "    </tr>\n",
       "    <tr>\n",
       "      <th>151053</th>\n",
       "      <td>48373364</td>\n",
       "      <td>11587</td>\n",
       "      <td>1951</td>\n",
       "      <td>1</td>\n",
       "    </tr>\n",
       "    <tr>\n",
       "      <th>151054</th>\n",
       "      <td>48373382</td>\n",
       "      <td>11587</td>\n",
       "      <td>2202</td>\n",
       "      <td>1</td>\n",
       "    </tr>\n",
       "    <tr>\n",
       "      <th>151055</th>\n",
       "      <td>48373405</td>\n",
       "      <td>11587</td>\n",
       "      <td>2354</td>\n",
       "      <td>2</td>\n",
       "    </tr>\n",
       "    <tr>\n",
       "      <th>151056</th>\n",
       "      <td>48373415</td>\n",
       "      <td>11587</td>\n",
       "      <td>2396</td>\n",
       "      <td>4</td>\n",
       "    </tr>\n",
       "  </tbody>\n",
       "</table>\n",
       "<p>151057 rows × 4 columns</p>\n",
       "</div>"
      ],
      "text/plain": [
       "        Unnamed: 0    Usr  Song  Time\n",
       "0              630   8021   519     5\n",
       "1              658   8021   679     1\n",
       "2              670   8021   804     1\n",
       "3              919   8021  2354     2\n",
       "4             1005   8021  2897     2\n",
       "...            ...    ...   ...   ...\n",
       "151052    48373339  11587  1642     1\n",
       "151053    48373364  11587  1951     1\n",
       "151054    48373382  11587  2202     1\n",
       "151055    48373405  11587  2354     2\n",
       "151056    48373415  11587  2396     4\n",
       "\n",
       "[151057 rows x 4 columns]"
      ]
     },
     "execution_count": 14,
     "metadata": {},
     "output_type": "execute_result"
    }
   ],
   "source": [
    "# label编码\n",
    "user_encoder = LabelEncoder()\n",
    "data['Usr'] = user_encoder.fit_transform(data['Usr'].values)\n",
    "\n",
    "song_encoder = LabelEncoder()\n",
    "data['Song'] = song_encoder.fit_transform(data['Song'].values)\n",
    "\n",
    "\n",
    "# 数据类型转换\n",
    "data.astype({'Usr': 'int32', 'Song': 'int32', 'Time': 'int32'})"
   ]
  },
  {
   "cell_type": "code",
   "execution_count": 15,
   "id": "21697780",
   "metadata": {},
   "outputs": [],
   "source": [
    "# 用户的歌曲播放总量的分布\n",
    "# 字典user_playcounts记录每个用户的播放总量\n",
    "user_playcounts = {}\n",
    "for user, group in data.groupby('Usr'):\n",
    "    user_playcounts[user] = group['Time'].sum()"
   ]
  },
  {
   "cell_type": "code",
   "execution_count": 16,
   "id": "9e2eaa66",
   "metadata": {},
   "outputs": [
    {
     "name": "stderr",
     "output_type": "stream",
     "text": [
      "/Users/yaqianchen/miniconda3/envs/MLFINAL/lib/python3.9/site-packages/seaborn/distributions.py:2619: FutureWarning: `distplot` is a deprecated function and will be removed in a future version. Please adapt your code to use either `displot` (a figure-level function with similar flexibility) or `histplot` (an axes-level function for histograms).\n",
      "  warnings.warn(msg, FutureWarning)\n"
     ]
    },
    {
     "data": {
      "image/png": "[encoded data removed]",
      "text/plain": [
       "<Figure size 432x288 with 1 Axes>"
      ]
     },
     "metadata": {
      "needs_background": "light"
     },
     "output_type": "display_data"
    }
   ],
   "source": [
    "# 作图\n",
    "sns.distplot(list(user_playcounts.values()), bins=5000, kde=False)\n",
    "plt.xlim(0, 200)\n",
    "plt.xlabel('play_count')\n",
    "plt.ylabel('nums of user')\n",
    "plt.show()"
   ]
  },
  {
   "cell_type": "code",
   "execution_count": 17,
   "id": "04756e82",
   "metadata": {},
   "outputs": [
    {
     "name": "stdout",
     "output_type": "stream",
     "text": [
      "歌曲播放量大于100的用户数量占总体用户数量的比例为 0.25%\n",
      "歌曲播放量大于100的用户产生的播放总量占总体播放总量的比例为 2.5189%\n",
      "歌曲播放量大于100的用户产生的数据占总体数据的比例为 0.3509%\n"
     ]
    }
   ],
   "source": [
    "temp_user = [user for user in user_playcounts.keys() if user_playcounts[user] > 100]\n",
    "temp_playcounts = [playcounts for user, playcounts in user_playcounts.items() if playcounts > 100]\n",
    "\n",
    "print('歌曲播放量大于100的用户数量占总体用户数量的比例为', str(round(len(temp_user)/len(user_playcounts), 4)*100)+'%')\n",
    "print('歌曲播放量大于100的用户产生的播放总量占总体播放总量的比例为', str(round(sum(temp_playcounts) / sum(user_playcounts.values())*100, 4))+'%')\n",
    "print('歌曲播放量大于100的用户产生的数据占总体数据的比例为', str(round(len(data[data.Usr.isin(temp_user)])/len(data)*100, 4))+\"%\")"
   ]
  },
  {
   "cell_type": "code",
   "execution_count": 18,
   "id": "9e5f4eef",
   "metadata": {},
   "outputs": [],
   "source": [
    "# # 过滤掉歌曲播放量少于100的用户的数据\n",
    "# data = data[data.Usr.isin(temp_user)]"
   ]
  },
  {
   "cell_type": "code",
   "execution_count": 19,
   "id": "d4caf11c",
   "metadata": {},
   "outputs": [],
   "source": [
    "# song_playcounts字典，记录每首歌的播放量\n",
    "song_playcounts = {}\n",
    "for song, group in data.groupby('Song'):\n",
    "    song_playcounts[song] = group['Time'].sum() "
   ]
  },
  {
   "cell_type": "code",
   "execution_count": 20,
   "id": "852d29ec",
   "metadata": {},
   "outputs": [
    {
     "name": "stderr",
     "output_type": "stream",
     "text": [
      "/Users/yaqianchen/miniconda3/envs/MLFINAL/lib/python3.9/site-packages/seaborn/distributions.py:2619: FutureWarning: `distplot` is a deprecated function and will be removed in a future version. Please adapt your code to use either `displot` (a figure-level function with similar flexibility) or `histplot` (an axes-level function for histograms).\n",
      "  warnings.warn(msg, FutureWarning)\n"
     ]
    },
    {
     "data": {
      "image/png": "[encoded data removed]",
      "text/plain": [
       "<Figure size 432x288 with 1 Axes>"
      ]
     },
     "metadata": {
      "needs_background": "light"
     },
     "output_type": "display_data"
    }
   ],
   "source": [
    "# 作图\n",
    "sns.distplot(list(song_playcounts.values()), bins=10000, kde=False)\n",
    "plt.xlim(0, 100)\n",
    "plt.xlabel('play_count')\n",
    "plt.ylabel('nums of song')\n",
    "plt.show()"
   ]
  },
  {
   "cell_type": "code",
   "execution_count": 21,
   "id": "5e01d33c",
   "metadata": {},
   "outputs": [
    {
     "name": "stdout",
     "output_type": "stream",
     "text": [
      "播放量大于20的歌曲数量占总体歌曲数量的比例为 25.83%\n",
      "播放量大于20的歌曲产生的播放总量占总体播放总量的比例为 93.1001%\n",
      "播放量大于20的歌曲产生的数据占总体数据的比例为 92.287%\n"
     ]
    }
   ],
   "source": [
    "temp_song = [song for song in song_playcounts.keys() if song_playcounts[song] > 50]\n",
    "temp_playcounts = [playcounts for song, playcounts in song_playcounts.items() if playcounts > 50]\n",
    "\n",
    "print('播放量大于20的歌曲数量占总体歌曲数量的比例为', str(round(len(temp_song)/len(song_playcounts), 4)*100)+'%')\n",
    "print('播放量大于20的歌曲产生的播放总量占总体播放总量的比例为', str(round(sum(temp_playcounts) / sum(song_playcounts.values())*100, 4))+'%')\n",
    "print('播放量大于20的歌曲产生的数据占总体数据的比例为', str(round(len(data[data.Song.isin(temp_song)])/len(data)*100, 4))+\"%\")"
   ]
  },
  {
   "cell_type": "code",
   "execution_count": 22,
   "id": "9d8b3970",
   "metadata": {},
   "outputs": [],
   "source": [
    "# # 过滤掉播放量小于50的歌曲\n",
    "# data = data[data.Song.isin(temp_song)]"
   ]
  },
  {
   "cell_type": "code",
   "execution_count": 23,
   "id": "bda842fa",
   "metadata": {},
   "outputs": [],
   "source": [
    "user_averageScore = {}\n",
    "for Usr, group in data.groupby('Usr'):\n",
    "    user_averageScore[Usr] = group['Time'].mean()"
   ]
  },
  {
   "cell_type": "code",
   "execution_count": 24,
   "id": "4445665d",
   "metadata": {},
   "outputs": [],
   "source": [
    "data['rating'] = data.apply(lambda x: np.log(2 + x.Time / user_averageScore[x.Usr]), axis=1)"
   ]
  },
  {
   "cell_type": "code",
   "execution_count": 25,
   "id": "b89eb4ed",
   "metadata": {},
   "outputs": [
    {
     "name": "stderr",
     "output_type": "stream",
     "text": [
      "/Users/yaqianchen/miniconda3/envs/MLFINAL/lib/python3.9/site-packages/seaborn/distributions.py:2619: FutureWarning: `distplot` is a deprecated function and will be removed in a future version. Please adapt your code to use either `displot` (a figure-level function with similar flexibility) or `histplot` (an axes-level function for histograms).\n",
      "  warnings.warn(msg, FutureWarning)\n"
     ]
    },
    {
     "data": {
      "image/png": "[encoded data removed]",
      "text/plain": [
       "<Figure size 432x288 with 1 Axes>"
      ]
     },
     "metadata": {
      "needs_background": "light"
     },
     "output_type": "display_data"
    }
   ],
   "source": [
    "sns.distplot(data['rating'].values, bins=100)\n",
    "plt.show()"
   ]
  },
  {
   "cell_type": "code",
   "execution_count": 26,
   "id": "ac9aa537",
   "metadata": {},
   "outputs": [],
   "source": [
    "user_item_rating = data[['Usr', 'Song', 'rating']]\n",
    "user_item_rating = user_item_rating.rename(columns={'Song': 'item'})"
   ]
  },
  {
   "cell_type": "code",
   "execution_count": 27,
   "id": "8bb6b444",
   "metadata": {},
   "outputs": [],
   "source": [
    "#用户听过的歌曲集合\n",
    "user_songs = {}\n",
    "for user, group in user_item_rating.groupby('Usr'):\n",
    "    user_songs[user] = group['item'].values.tolist()\n",
    "\n",
    "# 歌曲集合\n",
    "songs = user_item_rating['item'].unique().tolist()"
   ]
  },
  {
   "cell_type": "code",
   "execution_count": 28,
   "id": "d858f5f0",
   "metadata": {},
   "outputs": [
    {
     "data": {
      "text/html": [
       "<div>\n",
       "<style scoped>\n",
       "    .dataframe tbody tr th:only-of-type {\n",
       "        vertical-align: middle;\n",
       "    }\n",
       "\n",
       "    .dataframe tbody tr th {\n",
       "        vertical-align: top;\n",
       "    }\n",
       "\n",
       "    .dataframe thead th {\n",
       "        text-align: right;\n",
       "    }\n",
       "</style>\n",
       "<table border=\"1\" class=\"dataframe\">\n",
       "  <thead>\n",
       "    <tr style=\"text-align: right;\">\n",
       "      <th></th>\n",
       "      <th>Usr</th>\n",
       "      <th>item</th>\n",
       "      <th>rating</th>\n",
       "    </tr>\n",
       "  </thead>\n",
       "  <tbody>\n",
       "    <tr>\n",
       "      <th>0</th>\n",
       "      <td>8021</td>\n",
       "      <td>519</td>\n",
       "      <td>1.452252</td>\n",
       "    </tr>\n",
       "    <tr>\n",
       "      <th>1</th>\n",
       "      <td>8021</td>\n",
       "      <td>679</td>\n",
       "      <td>0.897942</td>\n",
       "    </tr>\n",
       "    <tr>\n",
       "      <th>2</th>\n",
       "      <td>8021</td>\n",
       "      <td>804</td>\n",
       "      <td>0.897942</td>\n",
       "    </tr>\n",
       "    <tr>\n",
       "      <th>3</th>\n",
       "      <td>8021</td>\n",
       "      <td>2354</td>\n",
       "      <td>1.067841</td>\n",
       "    </tr>\n",
       "    <tr>\n",
       "      <th>4</th>\n",
       "      <td>8021</td>\n",
       "      <td>2897</td>\n",
       "      <td>1.067841</td>\n",
       "    </tr>\n",
       "  </tbody>\n",
       "</table>\n",
       "</div>"
      ],
      "text/plain": [
       "    Usr  item    rating\n",
       "0  8021   519  1.452252\n",
       "1  8021   679  0.897942\n",
       "2  8021   804  0.897942\n",
       "3  8021  2354  1.067841\n",
       "4  8021  2897  1.067841"
      ]
     },
     "execution_count": 28,
     "metadata": {},
     "output_type": "execute_result"
    }
   ],
   "source": [
    "user_item_rating.head()"
   ]
  },
  {
   "cell_type": "code",
   "execution_count": 29,
   "id": "8943becf",
   "metadata": {},
   "outputs": [
    {
     "name": "stdout",
     "output_type": "stream",
     "text": [
      "<class 'surprise.dataset.DatasetAutoFolds'>\n",
      "<class 'surprise.trainset.Trainset'>\n",
      "Computing the msd similarity matrix...\n",
      "Done computing similarity matrix.\n",
      "<class 'surprise.trainset.Trainset'>\n",
      "Computing the msd similarity matrix...\n",
      "Done computing similarity matrix.\n"
     ]
    }
   ],
   "source": [
    "\n",
    "# userCF\n",
    "\n",
    "# 阅读器\n",
    "reader = Reader(line_format='user item rating', sep=',')\n",
    "# 载入数据\n",
    "raw_data = Dataset.load_from_df(user_item_rating, reader=reader)\n",
    "# 分割数据集\n",
    "kf = KFold(n_splits=2)\n",
    "# 构建模型\n",
    "knn_usercf = KNNBasic(k=40, sim_options={'user_based': True})\n",
    "# 训练数据集，并返回rmse误差\n",
    "# knn_usercf.fit(raw_data)\n",
    "print(type(raw_data))\n",
    "for trainset, testset in kf.split(raw_data):\n",
    "    print(type(trainset))\n",
    "    knn_usercf.fit(trainset)\n",
    "#     predictions = knn_usercf.test(testset)\n",
    "#     accuracy.rmse(predictions, verbose=True)"
   ]
  },
  {
   "cell_type": "code",
   "execution_count": 36,
   "id": "ddcf0da8",
   "metadata": {},
   "outputs": [
    {
     "data": {
      "text/plain": [
       "[158, 2012, 1675, 182, 1082]"
      ]
     },
     "execution_count": 36,
     "metadata": {},
     "output_type": "execute_result"
    }
   ],
   "source": [
    "# userCF 推荐\n",
    "def recommendation_basedonUserCF(userID, N=5):\n",
    "    # 用户听过的音乐列表\n",
    "    used_items = user_songs[userID]\n",
    "    \n",
    "    # 用户对未听过音乐的评分\n",
    "    item_ratings = {}\n",
    "    for item in songs:\n",
    "        if item not in used_items:\n",
    "            item_ratings[item] = knn_usercf.predict(userID, item).est\n",
    "    \n",
    "    # 找出评分靠前的5首歌曲\n",
    "    song_ids = dict(sorted(item_ratings.items(), key=lambda x: x[1], reverse=True)[:N])\n",
    "    \n",
    "    return list(song_ids.keys())\n",
    "\n",
    "recommendation_basedonUserCF(8021)"
   ]
  },
  {
   "cell_type": "code",
   "execution_count": null,
   "id": "2ab5ff14",
   "metadata": {},
   "outputs": [],
   "source": [
    "# test_case = [\"d7083f5e1d50c264277d624340edaaf3dc16095b\", \"0b254c684efb08fd04933add2d1e4191d2a87bac\", \"eda9bc7bcd72d18b9cf964990eb13a5b1789e78f\", \"05b9035fe02ebdf5535ae9ec07de1e935ffa43df\", \"4b9b549e84fb29bfbcf7ab34f01c0bcd1bbf93a5\"]\n",
    "# test_data=pd.read_table('dataset/evaluation_answer.txt', delimiter = '\\t')\n",
    "# test_data.head()"
   ]
  },
  {
   "cell_type": "code",
   "execution_count": null,
   "id": "8357f58e",
   "metadata": {},
   "outputs": [],
   "source": [
    "# test_case_item = {}\n",
    "# for _, i in test_data.iterrows():\n",
    "#     if i[\"Usr\"] in test_case_item:\n",
    "#         test_case_item[i[\"Usr\"]].append(i[\"Song\"])\n",
    "#     else:\n",
    "#         test_case_item[i[\"Usr\"]] = [i[\"Song\"]]\n",
    "# acc = 0\n",
    "# for usr in test_case:\n",
    "#     predict_songs = recommendation_basedonUserCF(usr)\n",
    "#     for predict_song in predict_songs:\n",
    "# #         print(predict_song)\n",
    "# #         print(test_case_item[usr])\n",
    "#         if predict_song in test_case_item[usr]:\n",
    "#             acc = acc + 1\n",
    "# acc/(len(test_case) * 5) "
   ]
  }
 ],
 "metadata": {
  "kernelspec": {
   "display_name": "Python [conda env:MLFINAL]",
   "language": "python",
   "name": "conda-env-MLFINAL-py"
  },
  "language_info": {
   "codemirror_mode": {
    "name": "ipython",
    "version": 3
   },
   "file_extension": ".py",
   "mimetype": "text/x-python",
   "name": "python",
   "nbconvert_exporter": "python",
   "pygments_lexer": "ipython3",
   "version": "3.9.12"
  }
 },
 "nbformat": 4,
 "nbformat_minor": 5
}
