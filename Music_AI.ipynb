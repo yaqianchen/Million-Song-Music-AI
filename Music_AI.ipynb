{
 "cells": [
  {
   "cell_type": "markdown",
   "id": "6e3583f2",
   "metadata": {
    "id": "6e3583f2"
   },
   "source": [
    "# Music Recommendation"
   ]
  },
  {
   "cell_type": "markdown",
   "id": "ae4ae119",
   "metadata": {
    "id": "ae4ae119"
   },
   "source": [
    "Project mentor:Sophia Sklaviadis <br>\n",
    "Team Members: yhu101@jhu.edu, ychen502@jhu.edu, hli181@jhu.edu, xmao8@jhu.edu <br>\n",
    "https://github.com/yawenh/Million-Song-Music-AI"
   ]
  },
  {
   "cell_type": "markdown",
   "id": "c9019f5f",
   "metadata": {
    "id": "c9019f5f"
   },
   "source": [
    "# Outline and Deliverables"
   ]
  },
  {
   "cell_type": "markdown",
   "id": "e0823bc5",
   "metadata": {
    "id": "e0823bc5"
   },
   "source": [
    "\n",
    "<font size=\"3\">Completed Deliverables:</font>\n",
    "1. \"Must accomplish #1\":During the recall stage, we use the user-based Collaborative Filtering to gain the top 50 similar songs. This part is on the IV. Recommendation - method part, User-based Collaborative Filtering <br>\n",
    "\n",
    "2. \"Must accomplish #2\":In the sorting stage, do Content-Based Filtering on the output of the recall stage to obtain a rating ranking. This part is on IV. Recommendation - Method(Sorting) - 3.content-based similarity sorting <br>\n",
    "\n",
    "3. \"Expect to accomplish #2\":In the sorting stage, look for other evaluation indicators that can be used as a good or bad ranking result, and use this indicator to obtain new recommendation results. <br>\n",
    "(On the IV. Recommendation - method part(Sorting), we consider the song features as indicators to sort the recommendation songs get on the recall stage). <br>\n",
    "\n",
    "4. \"Expect to accomplish #3\":In the ranking stage, use deep learning algorithms (eg, RNN) to predict the model to improve the ranking results of the music output in the recall stage.<br>(On the IV. Recommendation - method part, we implement logistic regression, RNN, LSTM, and Dense classifier to sort the recommendation songs we get on the recall stage, give better commendation songs).\n",
    "\n",
    "<font size=\"3\">Uncompleted Deliverables:</font>\n",
    "\n",
    "1. \"Must accomplish #3\":In both stages, hyperparameter automatic search algorithms (such as GridSearchCV) is used to select the optimal parameters for algorithm tuning, and the results under different optimizers (such as FTRL, SGD, etc.) are compared to obtain the best model. <br>\n",
    "(We used the loss function and our evaluation method describe on the recommendation part below to evaluate a good hyperparameter)\n",
    "\n",
    "2. \"Expect to accomplish #1\":Add feature pre-processing, use the Word2vec embedding layer in the pre-training stage to reduce the dimension and densify the sparse features, and optimize the recommendation results.<br>\n",
    "(Without the feedback of users to our recommendation list of songs, this method does not improve the recommendation list accuracy). "
   ]
  },
  {
   "cell_type": "markdown",
   "id": "90c263c2",
   "metadata": {
    "id": "90c263c2"
   },
   "source": [
    "<font size=\"3\">Additional Deliverables:</font>\n",
    "1. We decided to add logistic regression model, LSTM, Dense Classifier to predict whether a user would like the recommendation songs, and sotring the recommendation list get from the user-based recommendation to improve our commendation songs. <br>\n",
    "\n",
    "2. We wrote a evaluation method to measure our recommendation songs performance. The code is on evaluation.py file, describe the logistic(method) on the IV. Recommendation - Method(sorting) - evaluate part."
   ]
  },
  {
   "cell_type": "markdown",
   "id": "00a979d0",
   "metadata": {},
   "source": [
    "# Preliminaries"
   ]
  },
  {
   "cell_type": "markdown",
   "id": "3081dbe9",
   "metadata": {},
   "source": [
    "## What problem were you trying to solve or understand? <br>\n",
    "* We research how to recommend suitable songs that are more likely to match users perference. We combine the users'style similarity and the features of song to get better recommendation.<br>\n",
    "\n",
    "## What are the real-world implications of this data and task?\n",
    "* This logic is feasible for all kinds of recommendation tasks. All recommendation task based on measuring the users' similarity and contents similarity to recommend. We can provide users with more songs that meet their preferences and make them more satisfied with this music software. It also allows them to discover more music similar to their favorite music, bringing them listening enjoyment. <br>\n",
    "\n",
    "## How is this problem similar to others we’ve seen in lectures, breakouts, and homeworks?\n",
    "\n",
    "* We divide our project into two stage. On the first stage, recall stage. We used KNN cluster algorithm, which is one of the clustering algorithm we learned in this class, we also implemented cluster algorithm on homework 4, to cluster users with similar taste of songs.<br>\n",
    "* And on the second stage, sotring stage, we considering the songs feature to classify the recommendation songs to two classes, like or dislike. This is classification question, we learned it in class. And we did a question in homework 1 that talk about what method can rank items? On this project, we implement classification algorithms, gain the probability of each class, higher probability rank higher. \n",
    "\n",
    "## What makes this problem unique?\n",
    "* This is a music recommendation project. But, we are not simply recommending music with similar styles based on the style of the previous song that the user listened to. We combine song features and user preferences. For example, the listening histories of two users are highly overlapped, so the songs that one user has listened to are recommended to another similar user who has not listened to these songs. This recommendation method has nothing to do with the songs themselves but has a large likelihood that the recommended user will like. And then we considering the songs feature to sort the recommendation list, it's very unique, to predict the probability that the user will like the song. <br>\n",
    "* And we wrote an evaluation method to measure our model performance based on what we learned in another lesson on information retrieval.\n",
    "\n",
    "## What ethical implications does this problem have?\n",
    "* Analyze users with similar tastes in songs. If this information is leaked, scammers will easier to approach the user by discussing music, drawing closer to the user, creates a risk of fraud.\n"
   ]
  },
  {
   "cell_type": "markdown",
   "id": "ac443139",
   "metadata": {},
   "source": [
    "# Dataset"
   ]
  },
  {
   "cell_type": "markdown",
   "id": "0a93094b",
   "metadata": {},
   "source": [
    "## Describe the datasets you used?\n",
    "* The user data is from the Taste Profile Subset released by The Echo Nest as part of the Million Song Dataset. The data comes in a (user,song, play count) triplets format and is used to build our collaborative filtering system. \n",
    "* The music data comes from the Million Song Dataset, which contains a million samples with a total size of 273GB. \n",
    "\n",
    "## How were they collected?\n",
    "* data source link: http://millionsongdataset.com/\n",
    "\n",
    "## Why did you choose them?\n",
    "* We choose this dataset because it has both user data and audio feature data and metadata of the songs, which is great for us to build the hybrid recommendation system relies on both song and user information.\n",
    "\n",
    "## How many samples in each:\n",
    "* The raw user data has around one million samples with a total size of 500MB.\n",
    "* For the song data, to ease our exploration,we used a subset of 10,000 songs (1.8GB compressed) with 9 most representative features."
   ]
  },
  {
   "cell_type": "code",
   "execution_count": 2,
   "id": "525151c0",
   "metadata": {},
   "outputs": [
    {
     "data": {
      "text/html": [
       "<div>\n",
       "<style scoped>\n",
       "    .dataframe tbody tr th:only-of-type {\n",
       "        vertical-align: middle;\n",
       "    }\n",
       "\n",
       "    .dataframe tbody tr th {\n",
       "        vertical-align: top;\n",
       "    }\n",
       "\n",
       "    .dataframe thead th {\n",
       "        text-align: right;\n",
       "    }\n",
       "</style>\n",
       "<table border=\"1\" class=\"dataframe\">\n",
       "  <thead>\n",
       "    <tr style=\"text-align: right;\">\n",
       "      <th></th>\n",
       "      <th>Unnamed: 0</th>\n",
       "      <th>Usr</th>\n",
       "      <th>Song</th>\n",
       "      <th>Time</th>\n",
       "    </tr>\n",
       "  </thead>\n",
       "  <tbody>\n",
       "    <tr>\n",
       "      <th>0</th>\n",
       "      <td>630</td>\n",
       "      <td>5a905f000fc1ff3df7ca807d57edb608863db05d</td>\n",
       "      <td>SOEBCBI12AF72A154F</td>\n",
       "      <td>5</td>\n",
       "    </tr>\n",
       "    <tr>\n",
       "      <th>1</th>\n",
       "      <td>658</td>\n",
       "      <td>5a905f000fc1ff3df7ca807d57edb608863db05d</td>\n",
       "      <td>SOFKTPP12A8C1385CA</td>\n",
       "      <td>1</td>\n",
       "    </tr>\n",
       "  </tbody>\n",
       "</table>\n",
       "</div>"
      ],
      "text/plain": [
       "   Unnamed: 0                                       Usr                Song  \\\n",
       "0         630  5a905f000fc1ff3df7ca807d57edb608863db05d  SOEBCBI12AF72A154F   \n",
       "1         658  5a905f000fc1ff3df7ca807d57edb608863db05d  SOFKTPP12A8C1385CA   \n",
       "\n",
       "   Time  \n",
       "0     5  \n",
       "1     1  "
      ]
     },
     "execution_count": 2,
     "metadata": {},
     "output_type": "execute_result"
    }
   ],
   "source": [
    "import pandas as pd\n",
    "data=pd.read_csv('user_subset.csv')\n",
    "song = pd.read_csv('meta_data_subset.csv')\n",
    "# User data:\n",
    "data.head(2)"
   ]
  },
  {
   "cell_type": "code",
   "execution_count": 3,
   "id": "a132cbfc",
   "metadata": {},
   "outputs": [
    {
     "data": {
      "text/html": [
       "<div>\n",
       "<style scoped>\n",
       "    .dataframe tbody tr th:only-of-type {\n",
       "        vertical-align: middle;\n",
       "    }\n",
       "\n",
       "    .dataframe tbody tr th {\n",
       "        vertical-align: top;\n",
       "    }\n",
       "\n",
       "    .dataframe thead th {\n",
       "        text-align: right;\n",
       "    }\n",
       "</style>\n",
       "<table border=\"1\" class=\"dataframe\">\n",
       "  <thead>\n",
       "    <tr style=\"text-align: right;\">\n",
       "      <th></th>\n",
       "      <th>Unnamed: 0</th>\n",
       "      <th>song_id</th>\n",
       "      <th>title</th>\n",
       "      <th>song_hotness</th>\n",
       "      <th>duration</th>\n",
       "      <th>key</th>\n",
       "      <th>loudness</th>\n",
       "      <th>mode</th>\n",
       "      <th>tempo</th>\n",
       "      <th>artist</th>\n",
       "      <th>artist_hotness</th>\n",
       "    </tr>\n",
       "  </thead>\n",
       "  <tbody>\n",
       "    <tr>\n",
       "      <th>0</th>\n",
       "      <td>0</td>\n",
       "      <td>SOGSMXL12A81C23D88</td>\n",
       "      <td>Je Sais Que La Terre Est Plate</td>\n",
       "      <td>0.547953</td>\n",
       "      <td>148.74077</td>\n",
       "      <td>0</td>\n",
       "      <td>-9.636</td>\n",
       "      <td>1</td>\n",
       "      <td>124.059</td>\n",
       "      <td>Raphaël</td>\n",
       "      <td>0.386152</td>\n",
       "    </tr>\n",
       "    <tr>\n",
       "      <th>1</th>\n",
       "      <td>1</td>\n",
       "      <td>SOMBCOW12AAF3B229F</td>\n",
       "      <td>On Efface</td>\n",
       "      <td>0.475638</td>\n",
       "      <td>252.99546</td>\n",
       "      <td>1</td>\n",
       "      <td>-11.061</td>\n",
       "      <td>0</td>\n",
       "      <td>80.084</td>\n",
       "      <td>Julie Zenatti</td>\n",
       "      <td>0.434860</td>\n",
       "    </tr>\n",
       "  </tbody>\n",
       "</table>\n",
       "</div>"
      ],
      "text/plain": [
       "   Unnamed: 0             song_id                           title  \\\n",
       "0           0  SOGSMXL12A81C23D88  Je Sais Que La Terre Est Plate   \n",
       "1           1  SOMBCOW12AAF3B229F                       On Efface   \n",
       "\n",
       "   song_hotness   duration  key  loudness  mode    tempo         artist  \\\n",
       "0      0.547953  148.74077    0    -9.636     1  124.059        Raphaël   \n",
       "1      0.475638  252.99546    1   -11.061     0   80.084  Julie Zenatti   \n",
       "\n",
       "   artist_hotness  \n",
       "0        0.386152  \n",
       "1        0.434860  "
      ]
     },
     "execution_count": 3,
     "metadata": {},
     "output_type": "execute_result"
    }
   ],
   "source": [
    "# Song data:\n",
    "song.head(2)"
   ]
  },
  {
   "cell_type": "markdown",
   "id": "5f03ec61",
   "metadata": {},
   "source": [
    "# Pre-processing"
   ]
  },
  {
   "cell_type": "markdown",
   "id": "0f8285e6",
   "metadata": {},
   "source": [
    "## What features did you use or choose not to use? Why?\n",
    "* The features we used are: song_hotness, duration,\tkey, loudness, mode, tempo, artist, artist_hotness. Those features covers metadata, audio features, and artist attributes of the songs.\n",
    "\n",
    "## How did you deal with missing data? What about outliers?\n",
    "* For missing values, we removed the column called song hotness, which is the only column contains missing values, because we do not want to furthur reduce our users size. \n",
    "\n",
    "* We furthur merged the user data and song data to get a combined dataset. As we are using the play counts of a song as an implicit feedback from the user, we removed the users who has a playlist with less than 5 songs. The final used data has 151057 rows × 12 columns. The data cleaning steps can be found on github in the file called `data_cleaning.py`.\n",
    "\n",
    "## What approaches did you use to pre-process your data? Why?\n",
    "* The raw song data is in h5 format, we get the the id, title and the 8 corresponding attributes using the `hdf5_getters` API.\n",
    "* In the sorting stage, where we used the song dataset, we normalized those features, as different featuers have different units, we want to keep the scales uniform.\n",
    "\n",
    "## Are your features continuous or categorical? \n",
    "- categorical features: key, mode.\n",
    "- continuous features: duration, loudness, tempo, artist_hotness, song_hotness.\n"
   ]
  },
  {
   "cell_type": "code",
   "execution_count": 15,
   "id": "a6dbdfe1",
   "metadata": {
    "id": "a6dbdfe1"
   },
   "outputs": [],
   "source": [
    "# import pandas as pd\n",
    "import numpy as np\n",
    "from numpy.linalg import norm\n",
    "from sklearn.preprocessing import LabelEncoder, OneHotEncoder\n",
    "import sqlite3\n",
    "import seaborn as sns\n",
    "import matplotlib.pyplot as plt\n",
    "from surprise import KNNBasic\n",
    "from surprise import SVD\n",
    "from surprise import Reader, Dataset, accuracy\n",
    "from surprise.model_selection import KFold\n",
    "from sklearn.ensemble import GradientBoostingClassifier\n",
    "from sklearn.linear_model import LogisticRegression\n",
    "from sklearn.metrics import roc_auc_score\n",
    "from sklearn.model_selection import train_test_split\n",
    "import statistics\n",
    "from evaluation import *\n",
    "import warnings\n",
    "warnings.filterwarnings('ignore')"
   ]
  },
  {
   "cell_type": "markdown",
   "id": "5b0d6c77",
   "metadata": {
    "id": "5b0d6c77"
   },
   "source": [
    "# I. Read in data:"
   ]
  },
  {
   "cell_type": "code",
   "execution_count": 76,
   "id": "62a1a759",
   "metadata": {
    "colab": {
     "base_uri": "https://localhost:8080/",
     "height": 337
    },
    "id": "62a1a759",
    "outputId": "c11a8b13-35d1-4168-ab2f-1132b6723f3b"
   },
   "outputs": [
    {
     "data": {
      "text/html": [
       "<div>\n",
       "<style scoped>\n",
       "    .dataframe tbody tr th:only-of-type {\n",
       "        vertical-align: middle;\n",
       "    }\n",
       "\n",
       "    .dataframe tbody tr th {\n",
       "        vertical-align: top;\n",
       "    }\n",
       "\n",
       "    .dataframe thead th {\n",
       "        text-align: right;\n",
       "    }\n",
       "</style>\n",
       "<table border=\"1\" class=\"dataframe\">\n",
       "  <thead>\n",
       "    <tr style=\"text-align: right;\">\n",
       "      <th></th>\n",
       "      <th>Usr</th>\n",
       "      <th>Song</th>\n",
       "      <th>Time</th>\n",
       "      <th>title</th>\n",
       "      <th>song_hotness</th>\n",
       "      <th>duration</th>\n",
       "      <th>key</th>\n",
       "      <th>loudness</th>\n",
       "      <th>mode</th>\n",
       "      <th>tempo</th>\n",
       "      <th>artist</th>\n",
       "      <th>artist_hotness</th>\n",
       "    </tr>\n",
       "  </thead>\n",
       "  <tbody>\n",
       "    <tr>\n",
       "      <th>0</th>\n",
       "      <td>5a905f000fc1ff3df7ca807d57edb608863db05d</td>\n",
       "      <td>SOEBCBI12AF72A154F</td>\n",
       "      <td>5</td>\n",
       "      <td>The Captain</td>\n",
       "      <td>NaN</td>\n",
       "      <td>368.79628</td>\n",
       "      <td>4</td>\n",
       "      <td>-11.194</td>\n",
       "      <td>0</td>\n",
       "      <td>105.02</td>\n",
       "      <td>The Knife</td>\n",
       "      <td>0.487848</td>\n",
       "    </tr>\n",
       "    <tr>\n",
       "      <th>1</th>\n",
       "      <td>761601781ea89218ebe21c4ccaa996e7a6479671</td>\n",
       "      <td>SOEBCBI12AF72A154F</td>\n",
       "      <td>1</td>\n",
       "      <td>The Captain</td>\n",
       "      <td>NaN</td>\n",
       "      <td>368.79628</td>\n",
       "      <td>4</td>\n",
       "      <td>-11.194</td>\n",
       "      <td>0</td>\n",
       "      <td>105.02</td>\n",
       "      <td>The Knife</td>\n",
       "      <td>0.487848</td>\n",
       "    </tr>\n",
       "    <tr>\n",
       "      <th>2</th>\n",
       "      <td>55fc5990fc7911cfbba36c6ae26bfa3f532d8627</td>\n",
       "      <td>SOEBCBI12AF72A154F</td>\n",
       "      <td>1</td>\n",
       "      <td>The Captain</td>\n",
       "      <td>NaN</td>\n",
       "      <td>368.79628</td>\n",
       "      <td>4</td>\n",
       "      <td>-11.194</td>\n",
       "      <td>0</td>\n",
       "      <td>105.02</td>\n",
       "      <td>The Knife</td>\n",
       "      <td>0.487848</td>\n",
       "    </tr>\n",
       "    <tr>\n",
       "      <th>3</th>\n",
       "      <td>ea11e93ba014e8ff4cf302ac548d9246f2b76918</td>\n",
       "      <td>SOEBCBI12AF72A154F</td>\n",
       "      <td>3</td>\n",
       "      <td>The Captain</td>\n",
       "      <td>NaN</td>\n",
       "      <td>368.79628</td>\n",
       "      <td>4</td>\n",
       "      <td>-11.194</td>\n",
       "      <td>0</td>\n",
       "      <td>105.02</td>\n",
       "      <td>The Knife</td>\n",
       "      <td>0.487848</td>\n",
       "    </tr>\n",
       "    <tr>\n",
       "      <th>4</th>\n",
       "      <td>e3b48b679fc7215d3c7b29c6b944b34c6019a29a</td>\n",
       "      <td>SOEBCBI12AF72A154F</td>\n",
       "      <td>1</td>\n",
       "      <td>The Captain</td>\n",
       "      <td>NaN</td>\n",
       "      <td>368.79628</td>\n",
       "      <td>4</td>\n",
       "      <td>-11.194</td>\n",
       "      <td>0</td>\n",
       "      <td>105.02</td>\n",
       "      <td>The Knife</td>\n",
       "      <td>0.487848</td>\n",
       "    </tr>\n",
       "  </tbody>\n",
       "</table>\n",
       "</div>"
      ],
      "text/plain": [
       "                                        Usr                Song  Time  \\\n",
       "0  5a905f000fc1ff3df7ca807d57edb608863db05d  SOEBCBI12AF72A154F     5   \n",
       "1  761601781ea89218ebe21c4ccaa996e7a6479671  SOEBCBI12AF72A154F     1   \n",
       "2  55fc5990fc7911cfbba36c6ae26bfa3f532d8627  SOEBCBI12AF72A154F     1   \n",
       "3  ea11e93ba014e8ff4cf302ac548d9246f2b76918  SOEBCBI12AF72A154F     3   \n",
       "4  e3b48b679fc7215d3c7b29c6b944b34c6019a29a  SOEBCBI12AF72A154F     1   \n",
       "\n",
       "         title  song_hotness   duration  key  loudness  mode   tempo  \\\n",
       "0  The Captain           NaN  368.79628    4   -11.194     0  105.02   \n",
       "1  The Captain           NaN  368.79628    4   -11.194     0  105.02   \n",
       "2  The Captain           NaN  368.79628    4   -11.194     0  105.02   \n",
       "3  The Captain           NaN  368.79628    4   -11.194     0  105.02   \n",
       "4  The Captain           NaN  368.79628    4   -11.194     0  105.02   \n",
       "\n",
       "      artist  artist_hotness  \n",
       "0  The Knife        0.487848  \n",
       "1  The Knife        0.487848  \n",
       "2  The Knife        0.487848  \n",
       "3  The Knife        0.487848  \n",
       "4  The Knife        0.487848  "
      ]
     },
     "execution_count": 76,
     "metadata": {},
     "output_type": "execute_result"
    }
   ],
   "source": [
    "data, song = data.iloc[:,1:], song.iloc[:,1:]\n",
    "song = song.rename(columns = {'song_id':'Song'})\n",
    "data = pd.merge(data, song, how = 'inner', on = 'Song')\n",
    "data.head()"
   ]
  },
  {
   "cell_type": "code",
   "execution_count": 77,
   "id": "80611b7e",
   "metadata": {
    "colab": {
     "base_uri": "https://localhost:8080/",
     "height": 424
    },
    "id": "80611b7e",
    "outputId": "dbf7dedc-42df-4e33-9d61-f6a2a6067ff7"
   },
   "outputs": [
    {
     "data": {
      "text/html": [
       "<div>\n",
       "<style scoped>\n",
       "    .dataframe tbody tr th:only-of-type {\n",
       "        vertical-align: middle;\n",
       "    }\n",
       "\n",
       "    .dataframe tbody tr th {\n",
       "        vertical-align: top;\n",
       "    }\n",
       "\n",
       "    .dataframe thead th {\n",
       "        text-align: right;\n",
       "    }\n",
       "</style>\n",
       "<table border=\"1\" class=\"dataframe\">\n",
       "  <thead>\n",
       "    <tr style=\"text-align: right;\">\n",
       "      <th></th>\n",
       "      <th>Usr</th>\n",
       "      <th>Song</th>\n",
       "      <th>Time</th>\n",
       "      <th>title</th>\n",
       "      <th>song_hotness</th>\n",
       "      <th>duration</th>\n",
       "      <th>key</th>\n",
       "      <th>loudness</th>\n",
       "      <th>mode</th>\n",
       "      <th>tempo</th>\n",
       "      <th>artist</th>\n",
       "      <th>artist_hotness</th>\n",
       "    </tr>\n",
       "  </thead>\n",
       "  <tbody>\n",
       "    <tr>\n",
       "      <th>0</th>\n",
       "      <td>8021</td>\n",
       "      <td>519</td>\n",
       "      <td>5</td>\n",
       "      <td>The Captain</td>\n",
       "      <td>NaN</td>\n",
       "      <td>368.79628</td>\n",
       "      <td>4</td>\n",
       "      <td>-11.194</td>\n",
       "      <td>0</td>\n",
       "      <td>105.020</td>\n",
       "      <td>The Knife</td>\n",
       "      <td>0.487848</td>\n",
       "    </tr>\n",
       "    <tr>\n",
       "      <th>1</th>\n",
       "      <td>10432</td>\n",
       "      <td>519</td>\n",
       "      <td>1</td>\n",
       "      <td>The Captain</td>\n",
       "      <td>NaN</td>\n",
       "      <td>368.79628</td>\n",
       "      <td>4</td>\n",
       "      <td>-11.194</td>\n",
       "      <td>0</td>\n",
       "      <td>105.020</td>\n",
       "      <td>The Knife</td>\n",
       "      <td>0.487848</td>\n",
       "    </tr>\n",
       "    <tr>\n",
       "      <th>2</th>\n",
       "      <td>7609</td>\n",
       "      <td>519</td>\n",
       "      <td>1</td>\n",
       "      <td>The Captain</td>\n",
       "      <td>NaN</td>\n",
       "      <td>368.79628</td>\n",
       "      <td>4</td>\n",
       "      <td>-11.194</td>\n",
       "      <td>0</td>\n",
       "      <td>105.020</td>\n",
       "      <td>The Knife</td>\n",
       "      <td>0.487848</td>\n",
       "    </tr>\n",
       "    <tr>\n",
       "      <th>3</th>\n",
       "      <td>20892</td>\n",
       "      <td>519</td>\n",
       "      <td>3</td>\n",
       "      <td>The Captain</td>\n",
       "      <td>NaN</td>\n",
       "      <td>368.79628</td>\n",
       "      <td>4</td>\n",
       "      <td>-11.194</td>\n",
       "      <td>0</td>\n",
       "      <td>105.020</td>\n",
       "      <td>The Knife</td>\n",
       "      <td>0.487848</td>\n",
       "    </tr>\n",
       "    <tr>\n",
       "      <th>4</th>\n",
       "      <td>20336</td>\n",
       "      <td>519</td>\n",
       "      <td>1</td>\n",
       "      <td>The Captain</td>\n",
       "      <td>NaN</td>\n",
       "      <td>368.79628</td>\n",
       "      <td>4</td>\n",
       "      <td>-11.194</td>\n",
       "      <td>0</td>\n",
       "      <td>105.020</td>\n",
       "      <td>The Knife</td>\n",
       "      <td>0.487848</td>\n",
       "    </tr>\n",
       "    <tr>\n",
       "      <th>...</th>\n",
       "      <td>...</td>\n",
       "      <td>...</td>\n",
       "      <td>...</td>\n",
       "      <td>...</td>\n",
       "      <td>...</td>\n",
       "      <td>...</td>\n",
       "      <td>...</td>\n",
       "      <td>...</td>\n",
       "      <td>...</td>\n",
       "      <td>...</td>\n",
       "      <td>...</td>\n",
       "      <td>...</td>\n",
       "    </tr>\n",
       "    <tr>\n",
       "      <th>151052</th>\n",
       "      <td>15128</td>\n",
       "      <td>1922</td>\n",
       "      <td>2</td>\n",
       "      <td>Intensity In Ten Cities</td>\n",
       "      <td>0.547953</td>\n",
       "      <td>247.48363</td>\n",
       "      <td>7</td>\n",
       "      <td>-3.402</td>\n",
       "      <td>1</td>\n",
       "      <td>231.851</td>\n",
       "      <td>Embrace the End</td>\n",
       "      <td>0.420177</td>\n",
       "    </tr>\n",
       "    <tr>\n",
       "      <th>151053</th>\n",
       "      <td>11818</td>\n",
       "      <td>1615</td>\n",
       "      <td>3</td>\n",
       "      <td>Cabiria</td>\n",
       "      <td>0.473347</td>\n",
       "      <td>203.96363</td>\n",
       "      <td>0</td>\n",
       "      <td>-10.881</td>\n",
       "      <td>1</td>\n",
       "      <td>132.073</td>\n",
       "      <td>Hot Club Of Cowtown</td>\n",
       "      <td>0.389848</td>\n",
       "    </tr>\n",
       "    <tr>\n",
       "      <th>151054</th>\n",
       "      <td>9494</td>\n",
       "      <td>1543</td>\n",
       "      <td>1</td>\n",
       "      <td>Safe Passage</td>\n",
       "      <td>0.265861</td>\n",
       "      <td>330.97098</td>\n",
       "      <td>7</td>\n",
       "      <td>-16.934</td>\n",
       "      <td>1</td>\n",
       "      <td>101.529</td>\n",
       "      <td>Michael Gettel</td>\n",
       "      <td>0.333771</td>\n",
       "    </tr>\n",
       "    <tr>\n",
       "      <th>151055</th>\n",
       "      <td>9494</td>\n",
       "      <td>2823</td>\n",
       "      <td>1</td>\n",
       "      <td>River Run</td>\n",
       "      <td>0.262309</td>\n",
       "      <td>452.25751</td>\n",
       "      <td>1</td>\n",
       "      <td>-16.685</td>\n",
       "      <td>0</td>\n",
       "      <td>168.035</td>\n",
       "      <td>Michael Gettel</td>\n",
       "      <td>0.333771</td>\n",
       "    </tr>\n",
       "    <tr>\n",
       "      <th>151056</th>\n",
       "      <td>4927</td>\n",
       "      <td>241</td>\n",
       "      <td>2</td>\n",
       "      <td>After All The Love Is Gone</td>\n",
       "      <td>0.382935</td>\n",
       "      <td>256.67873</td>\n",
       "      <td>0</td>\n",
       "      <td>-10.223</td>\n",
       "      <td>1</td>\n",
       "      <td>120.093</td>\n",
       "      <td>Alias</td>\n",
       "      <td>0.423022</td>\n",
       "    </tr>\n",
       "  </tbody>\n",
       "</table>\n",
       "<p>151057 rows × 12 columns</p>\n",
       "</div>"
      ],
      "text/plain": [
       "          Usr  Song  Time                       title  song_hotness  \\\n",
       "0        8021   519     5                 The Captain           NaN   \n",
       "1       10432   519     1                 The Captain           NaN   \n",
       "2        7609   519     1                 The Captain           NaN   \n",
       "3       20892   519     3                 The Captain           NaN   \n",
       "4       20336   519     1                 The Captain           NaN   \n",
       "...       ...   ...   ...                         ...           ...   \n",
       "151052  15128  1922     2     Intensity In Ten Cities      0.547953   \n",
       "151053  11818  1615     3                     Cabiria      0.473347   \n",
       "151054   9494  1543     1                Safe Passage      0.265861   \n",
       "151055   9494  2823     1                   River Run      0.262309   \n",
       "151056   4927   241     2  After All The Love Is Gone      0.382935   \n",
       "\n",
       "         duration  key  loudness  mode    tempo               artist  \\\n",
       "0       368.79628    4   -11.194     0  105.020            The Knife   \n",
       "1       368.79628    4   -11.194     0  105.020            The Knife   \n",
       "2       368.79628    4   -11.194     0  105.020            The Knife   \n",
       "3       368.79628    4   -11.194     0  105.020            The Knife   \n",
       "4       368.79628    4   -11.194     0  105.020            The Knife   \n",
       "...           ...  ...       ...   ...      ...                  ...   \n",
       "151052  247.48363    7    -3.402     1  231.851      Embrace the End   \n",
       "151053  203.96363    0   -10.881     1  132.073  Hot Club Of Cowtown   \n",
       "151054  330.97098    7   -16.934     1  101.529       Michael Gettel   \n",
       "151055  452.25751    1   -16.685     0  168.035       Michael Gettel   \n",
       "151056  256.67873    0   -10.223     1  120.093                Alias   \n",
       "\n",
       "        artist_hotness  \n",
       "0             0.487848  \n",
       "1             0.487848  \n",
       "2             0.487848  \n",
       "3             0.487848  \n",
       "4             0.487848  \n",
       "...                ...  \n",
       "151052        0.420177  \n",
       "151053        0.389848  \n",
       "151054        0.333771  \n",
       "151055        0.333771  \n",
       "151056        0.423022  \n",
       "\n",
       "[151057 rows x 12 columns]"
      ]
     },
     "execution_count": 77,
     "metadata": {},
     "output_type": "execute_result"
    }
   ],
   "source": [
    "# labeling and encoding:\n",
    "user_encoder = LabelEncoder()\n",
    "data['Usr'] = user_encoder.fit_transform(data['Usr'].values)\n",
    "\n",
    "song_encoder = LabelEncoder()\n",
    "data['Song'] = song_encoder.fit_transform(data['Song'].values)\n",
    "data.astype({'Usr': 'int32', 'Song': 'int32', 'Time': 'int32'})"
   ]
  },
  {
   "cell_type": "markdown",
   "id": "40185a78",
   "metadata": {
    "id": "40185a78"
   },
   "source": [
    "\n",
    "# II. Train test split:"
   ]
  },
  {
   "cell_type": "code",
   "execution_count": 78,
   "id": "21697780",
   "metadata": {
    "id": "21697780"
   },
   "outputs": [],
   "source": [
    "user_id = data['Usr'].unique()\n",
    "train_uid,test_uid = user_id[:22700],user_id[22700:]\n",
    "train = data[data['Usr'].isin(train_uid)]\n",
    "song_id = train['Song'].unique()\n",
    "\n",
    "# Test user only keep songs have overlap with train user song lists, and delete user with personal songlist < 4:\n",
    "test = data[data['Usr'].isin(test_uid) & data['Song'].isin(song_id)]\n",
    "temp = test.groupby('Usr').count()['Song'].reset_index()\n",
    "uid = temp[temp['Song'] >= 4]['Usr']\n",
    "del temp\n",
    "test = test[test['Usr'].isin(uid)]"
   ]
  },
  {
   "cell_type": "code",
   "execution_count": 79,
   "id": "9e2eaa66",
   "metadata": {
    "id": "9e2eaa66"
   },
   "outputs": [],
   "source": [
    "# For each test user, keep 2 songs as known; And other songs in the song list as hidden songs.\n",
    "# The hidden songs will be used to test the performance of the recommendation system later.\n",
    "\n",
    "# X: For user based recommendation\n",
    "# user_hidden_songs: test user and hidden song list.\n",
    "user_song = {}\n",
    "for user, group in test.groupby('Usr'):\n",
    "    user_song[user] = group['Song'].values.tolist()    \n",
    "test1 = []\n",
    "for user in user_song:\n",
    "    for i in range(2):\n",
    "        test1.append(test[(test['Usr']==user)&(test['Song']==user_song[user][i])].squeeze())\n",
    "test1 = pd.DataFrame(test1)\n",
    "X = pd.concat([train,test1])\n",
    "del test1\n",
    "del train\n",
    "\n",
    "test_hidden = []\n",
    "for user in user_song:\n",
    "    for i in range(2,len(user_song[user])):\n",
    "        test_hidden.append(test[(test['Usr']==user)&(test['Song']==user_song[user][i])].squeeze())\n",
    "test_hidden = pd.DataFrame(test_hidden)[['Usr','Song']]\n",
    "\n",
    "user_hidden_songs = {}\n",
    "for user, group in test_hidden.groupby('Usr'):\n",
    "    user_hidden_songs[user] = group['Song'].values.tolist()\n",
    "del test_hidden"
   ]
  },
  {
   "cell_type": "markdown",
   "id": "2eea0899",
   "metadata": {
    "id": "2eea0899"
   },
   "source": [
    "# III. EDA"
   ]
  },
  {
   "cell_type": "code",
   "execution_count": 80,
   "id": "04756e82",
   "metadata": {
    "id": "04756e82"
   },
   "outputs": [],
   "source": [
    "# Distribution of playcounts per user (user_playcounts)\n",
    "user_playcounts = {}\n",
    "for user, group in X.groupby('Usr'):\n",
    "    user_playcounts[user] = group['Time'].sum()"
   ]
  },
  {
   "cell_type": "code",
   "execution_count": 81,
   "id": "9e5f4eef",
   "metadata": {
    "colab": {
     "base_uri": "https://localhost:8080/",
     "height": 336
    },
    "id": "9e5f4eef",
    "outputId": "7a35729a-b566-490a-c2f4-7b15b6689fc6"
   },
   "outputs": [
    {
     "data": {
      "image/png": "[encoded data removed]",
      "text/plain": [
       "<Figure size 432x288 with 1 Axes>"
      ]
     },
     "metadata": {
      "needs_background": "light"
     },
     "output_type": "display_data"
    }
   ],
   "source": [
    "sns.distplot(list(user_playcounts.values()), bins=5000, kde=False)\n",
    "plt.xlim(0, 200)\n",
    "plt.xlabel('play_count')\n",
    "plt.ylabel('nums of user')\n",
    "plt.show()"
   ]
  },
  {
   "cell_type": "code",
   "execution_count": 82,
   "id": "d4caf11c",
   "metadata": {
    "id": "d4caf11c"
   },
   "outputs": [],
   "source": [
    "# Distribution of playcounts per song (song_playcounts)\n",
    "song_playcounts = {}\n",
    "for song, group in X.groupby('Song'):\n",
    "    song_playcounts[song] = group['Time'].sum() "
   ]
  },
  {
   "cell_type": "code",
   "execution_count": 83,
   "id": "852d29ec",
   "metadata": {
    "colab": {
     "base_uri": "https://localhost:8080/",
     "height": 336
    },
    "id": "852d29ec",
    "outputId": "3d0c78ec-c710-46e4-801c-cea5c0736303"
   },
   "outputs": [
    {
     "data": {
      "image/png": "[encoded data removed]",
      "text/plain": [
       "<Figure size 432x288 with 1 Axes>"
      ]
     },
     "metadata": {
      "needs_background": "light"
     },
     "output_type": "display_data"
    }
   ],
   "source": [
    "sns.distplot(list(song_playcounts.values()), bins=10000, kde=False)\n",
    "plt.xlim(0, 100)\n",
    "plt.xlabel('play_count')\n",
    "plt.ylabel('nums of song')\n",
    "plt.show()"
   ]
  },
  {
   "cell_type": "code",
   "execution_count": 84,
   "id": "5e01d33c",
   "metadata": {
    "id": "5e01d33c"
   },
   "outputs": [],
   "source": [
    "user_averageScore = {}\n",
    "for Usr, group in X.groupby('Usr'):\n",
    "    user_averageScore[Usr] = group['Time'].mean()"
   ]
  },
  {
   "cell_type": "code",
   "execution_count": 85,
   "id": "9d8b3970",
   "metadata": {
    "id": "9d8b3970"
   },
   "outputs": [],
   "source": [
    "X['rating'] = X.apply(lambda x: np.log(2 + x.Time / user_averageScore[x.Usr]), axis=1)"
   ]
  },
  {
   "cell_type": "code",
   "execution_count": 86,
   "id": "bda842fa",
   "metadata": {
    "colab": {
     "base_uri": "https://localhost:8080/",
     "height": 321
    },
    "id": "bda842fa",
    "outputId": "9a68d838-6d40-48f4-bca3-a01075653315"
   },
   "outputs": [
    {
     "data": {
      "image/png": "[encoded data removed]",
      "text/plain": [
       "<Figure size 432x288 with 1 Axes>"
      ]
     },
     "metadata": {
      "needs_background": "light"
     },
     "output_type": "display_data"
    }
   ],
   "source": [
    "sns.distplot(X['rating'].values, bins=100)\n",
    "plt.show()"
   ]
  },
  {
   "cell_type": "code",
   "execution_count": 87,
   "id": "4445665d",
   "metadata": {
    "id": "4445665d"
   },
   "outputs": [],
   "source": [
    "user_item_rating = X[['Usr', 'Song', 'rating']]\n",
    "user_item_rating = user_item_rating.rename(columns={'Song': 'item'})"
   ]
  },
  {
   "cell_type": "code",
   "execution_count": 88,
   "id": "b89eb4ed",
   "metadata": {
    "id": "b89eb4ed"
   },
   "outputs": [],
   "source": [
    "# User and their corresponding song list\n",
    "user_songs = {}\n",
    "for user, group in user_item_rating.groupby('Usr'):\n",
    "    user_songs[user] = group['item'].values.tolist()\n",
    "\n",
    "# unique songs\n",
    "songs = user_item_rating['item'].unique().tolist()"
   ]
  },
  {
   "cell_type": "markdown",
   "id": "621eaeb1",
   "metadata": {
    "id": "621eaeb1"
   },
   "source": [
    "# IV. Recommendation"
   ]
  },
  {
   "cell_type": "markdown",
   "id": "fae35ded",
   "metadata": {
    "id": "fae35ded"
   },
   "source": [
    "# Methods( Recall Stage )\n",
    "## User-based Collaborative Filtering(UB-CF)\n",
    "\n",
    "### What methods did you choose? \n",
    "\n",
    "* We chose User-based Collaborative Filtering(UB-CF) method in the first step to select candidate song sets. \n",
    "* Then we sorted candidate song sets based on song features by using different sorting methods, including Content-based sorting、Logistic Regression、RNN、LSTM and Dense Classifier models.\n",
    "\n",
    "\n",
    "### Why did you choose it?\n",
    "\n",
    "* Imagine that we want to recommend a song to our friend Lily. We could assume that similar people will have similar taste. Suppose that Jack and Lily have listened to the same songs, and they rated them almost identically. If Lily hasn’t listened ‘Love story’song, but Jack did. If Jack loves that song, it sounds logical to think that Lily will too. \n",
    "* Thus, User-based Collaborative Filtering uses that logic and recommends songs by finding similar users to the active user (to whom we are trying to recommend songs) in our first step.\n",
    "\n",
    "\n",
    "### How did you train this method? \n",
    "\n",
    "1.\tFind the K-nearest neighbors (KNN) (K=40) to the user A, using a similarity function w (pearson) to measure the distance between each pair of users.\n",
    "2.\tPredict the rating that user A will give to all songs the k neighbors have consumed but A has not. The ratings given to a particular song are obtained by using a weighted average approach. In practice, we multiplied the rating of songs rated by each neighbor users with similarity function w calculated in the first step.\n",
    "\n",
    "**To predict the songs that the active user might like should base on the ratings of items. Since we had no direct rating feature, we defined ratings as follows: Rating = log(2 + Current song play counts/average of songs play counts)**\n",
    "\n",
    "\n",
    "\n",
    "### For each method, what hyperparameters did you evaluate? How sensitive was your model's performance to different hyperparameter settings?\n",
    "\n",
    "For our recall stage, the main hyper-parameter is K, the number of neighbors. We choose K by fixing the sorting stage, only change the value K on training datasets. We split the training datasets into training and evaluation sets with ratio 8:2. Then we calculate the accuracy and precision for different K. When K equals 40, it gives the best result, therefore, we fix K to be 40.\n",
    "\n",
    "\n",
    "\n"
   ]
  },
  {
   "cell_type": "code",
   "execution_count": 89,
   "id": "ac9aa537",
   "metadata": {
    "colab": {
     "base_uri": "https://localhost:8080/"
    },
    "id": "ac9aa537",
    "outputId": "01b0f32f-5c00-46d4-b4a2-84f2b7af5d44"
   },
   "outputs": [
    {
     "name": "stdout",
     "output_type": "stream",
     "text": [
      "Computing the msd similarity matrix...\n",
      "Done computing similarity matrix.\n",
      "Computing the msd similarity matrix...\n",
      "Done computing similarity matrix.\n"
     ]
    }
   ],
   "source": [
    "# User based Collaborative Filtering:\n",
    "reader = Reader(line_format='user item rating', sep=',')\n",
    "raw_data = Dataset.load_from_df(user_item_rating, reader=reader)\n",
    "kf = KFold(n_splits=2)\n",
    "knn_usercf = KNNBasic(k=40, sim_options={'user_based': True})\n",
    "for trainset, testset in kf.split(raw_data):\n",
    "    knn_usercf.fit(trainset)"
   ]
  },
  {
   "cell_type": "code",
   "execution_count": 90,
   "id": "7xciVVnAO3XV",
   "metadata": {
    "colab": {
     "base_uri": "https://localhost:8080/",
     "height": 206
    },
    "id": "7xciVVnAO3XV",
    "outputId": "f184440a-fa39-4073-df26-4f755eebcbd2"
   },
   "outputs": [
    {
     "data": {
      "text/html": [
       "<div>\n",
       "<style scoped>\n",
       "    .dataframe tbody tr th:only-of-type {\n",
       "        vertical-align: middle;\n",
       "    }\n",
       "\n",
       "    .dataframe tbody tr th {\n",
       "        vertical-align: top;\n",
       "    }\n",
       "\n",
       "    .dataframe thead th {\n",
       "        text-align: right;\n",
       "    }\n",
       "</style>\n",
       "<table border=\"1\" class=\"dataframe\">\n",
       "  <thead>\n",
       "    <tr style=\"text-align: right;\">\n",
       "      <th></th>\n",
       "      <th>Usr</th>\n",
       "      <th>Song</th>\n",
       "      <th>Time</th>\n",
       "      <th>title</th>\n",
       "      <th>song_hotness</th>\n",
       "      <th>duration</th>\n",
       "      <th>key</th>\n",
       "      <th>loudness</th>\n",
       "      <th>mode</th>\n",
       "      <th>tempo</th>\n",
       "      <th>artist</th>\n",
       "      <th>artist_hotness</th>\n",
       "      <th>rating</th>\n",
       "    </tr>\n",
       "  </thead>\n",
       "  <tbody>\n",
       "    <tr>\n",
       "      <th>0</th>\n",
       "      <td>8021</td>\n",
       "      <td>519</td>\n",
       "      <td>5</td>\n",
       "      <td>The Captain</td>\n",
       "      <td>NaN</td>\n",
       "      <td>368.79628</td>\n",
       "      <td>4</td>\n",
       "      <td>-11.194</td>\n",
       "      <td>0</td>\n",
       "      <td>105.02</td>\n",
       "      <td>The Knife</td>\n",
       "      <td>0.487848</td>\n",
       "      <td>1.452252</td>\n",
       "    </tr>\n",
       "    <tr>\n",
       "      <th>1</th>\n",
       "      <td>10432</td>\n",
       "      <td>519</td>\n",
       "      <td>1</td>\n",
       "      <td>The Captain</td>\n",
       "      <td>NaN</td>\n",
       "      <td>368.79628</td>\n",
       "      <td>4</td>\n",
       "      <td>-11.194</td>\n",
       "      <td>0</td>\n",
       "      <td>105.02</td>\n",
       "      <td>The Knife</td>\n",
       "      <td>0.487848</td>\n",
       "      <td>0.897942</td>\n",
       "    </tr>\n",
       "    <tr>\n",
       "      <th>2</th>\n",
       "      <td>7609</td>\n",
       "      <td>519</td>\n",
       "      <td>1</td>\n",
       "      <td>The Captain</td>\n",
       "      <td>NaN</td>\n",
       "      <td>368.79628</td>\n",
       "      <td>4</td>\n",
       "      <td>-11.194</td>\n",
       "      <td>0</td>\n",
       "      <td>105.02</td>\n",
       "      <td>The Knife</td>\n",
       "      <td>0.487848</td>\n",
       "      <td>1.098612</td>\n",
       "    </tr>\n",
       "    <tr>\n",
       "      <th>3</th>\n",
       "      <td>20892</td>\n",
       "      <td>519</td>\n",
       "      <td>3</td>\n",
       "      <td>The Captain</td>\n",
       "      <td>NaN</td>\n",
       "      <td>368.79628</td>\n",
       "      <td>4</td>\n",
       "      <td>-11.194</td>\n",
       "      <td>0</td>\n",
       "      <td>105.02</td>\n",
       "      <td>The Knife</td>\n",
       "      <td>0.487848</td>\n",
       "      <td>1.038508</td>\n",
       "    </tr>\n",
       "    <tr>\n",
       "      <th>4</th>\n",
       "      <td>20336</td>\n",
       "      <td>519</td>\n",
       "      <td>1</td>\n",
       "      <td>The Captain</td>\n",
       "      <td>NaN</td>\n",
       "      <td>368.79628</td>\n",
       "      <td>4</td>\n",
       "      <td>-11.194</td>\n",
       "      <td>0</td>\n",
       "      <td>105.02</td>\n",
       "      <td>The Knife</td>\n",
       "      <td>0.487848</td>\n",
       "      <td>0.969401</td>\n",
       "    </tr>\n",
       "  </tbody>\n",
       "</table>\n",
       "</div>"
      ],
      "text/plain": [
       "     Usr  Song  Time        title  song_hotness   duration  key  loudness  \\\n",
       "0   8021   519     5  The Captain           NaN  368.79628    4   -11.194   \n",
       "1  10432   519     1  The Captain           NaN  368.79628    4   -11.194   \n",
       "2   7609   519     1  The Captain           NaN  368.79628    4   -11.194   \n",
       "3  20892   519     3  The Captain           NaN  368.79628    4   -11.194   \n",
       "4  20336   519     1  The Captain           NaN  368.79628    4   -11.194   \n",
       "\n",
       "   mode   tempo     artist  artist_hotness    rating  \n",
       "0     0  105.02  The Knife        0.487848  1.452252  \n",
       "1     0  105.02  The Knife        0.487848  0.897942  \n",
       "2     0  105.02  The Knife        0.487848  1.098612  \n",
       "3     0  105.02  The Knife        0.487848  1.038508  \n",
       "4     0  105.02  The Knife        0.487848  0.969401  "
      ]
     },
     "execution_count": 90,
     "metadata": {},
     "output_type": "execute_result"
    }
   ],
   "source": [
    "X.head()"
   ]
  },
  {
   "cell_type": "code",
   "execution_count": 91,
   "id": "7895c1c1",
   "metadata": {},
   "outputs": [],
   "source": [
    "logistic_data = X.copy()\n",
    "KNN_data = X.copy()"
   ]
  },
  {
   "cell_type": "markdown",
   "id": "4c5f37d0",
   "metadata": {},
   "source": [
    "# Methods( Sorting Stage )\n",
    "## Song similarity, Logistic Regression, RNN, LSTM, Dense Classifier models\n",
    "\n",
    "### Why did you choose them?\n",
    "\n",
    "* In the sorting step, we need to choose the top favorite songs for each users based on the candidate song sets obtained from UB-CF. Below, we applied totally five different sorting methods here. \n",
    "\n",
    "* As we only used user data in the recall stage, we here also want to introduce the features related to songs, such as tempo, mode, key, duration, etc, into our systems. The most simple one is calculating the similarities between songs and sort by that. \n",
    "\n",
    "* Since we had already obtained the ratings for each songs in candidate song set, we introduce the song features to predict whether the person like to listen the song or not now. We regard these ratings as  response variable in our models by setting an appropriate threshold(0.7), higher than threshold as class 1, lower as 1, song features as predictors. We used these classification methods to predict the probability that user like the song. Sorting the candidate songs by predictive probability.\n",
    "In such case, we chose fully connected neural network considering the large amount of data. And NN model is flexibe since we can set different activation function, layers, loss function to find a better result.  \n",
    "* Besides,since the more higher rating,the more likely the user will listen to this song, which means that higher rating songs represents a more similar taste to the user. If we can capture the information in these higher rating songs, we can recommend more accurate songs to users.  \n",
    "In such cases, we consider choosing RNN and LSTM models since they can better handle sequence information.\n",
    "\n",
    "\n",
    "### How did you train these methods? \n",
    "1. Song Similarity:\n",
    "* For each song in the recommendation list, we calculated the average consine similartiy between it and all the songs in users original playlist based on the song metadata features and audio features. We then use the average similarity value to sort the song list.\n",
    "\n",
    "2. Logistic regression:\n",
    "* Depending on the ratings of user to songs, treat the rating as y, songs feature as predictors to predict the probabiloity that the user will like the song. The median rating is 1.04145, higher than this as class 1, else 0. <br>\n",
    "* Rank the recommendation songs provided by user similarity depends on the predictive probabilities.\n",
    "\n",
    "3. Dense Classifier with two hidden layers:  \n",
    "* First hidden layers: 128 neurons; Relu activation function  \n",
    "* Second hidden layers: 64 neurons; Relu activation function  \n",
    "* Output: Sigmoid activation function  \n",
    "* Optimizer: Adam; Loss function: binary crossentropy  \n",
    "4. RNN with two hidden layers:  \n",
    "* First hidden layers: 100 neurons; Relu activation function  \n",
    "* Second hidden layers: 100 neurons; Relu activation function  \n",
    "* Optimizer: Adam; Loss function: MSE; Dropout rate: 0.1  \n",
    "5. LSTM with two hidden layers: \n",
    "* First hidden layers: 10 neurons; Relu activation function  \n",
    "* Second hidden layers: 10 neurons; Relu activation function  \n",
    "* Optimizer: Adam; Loss function: binary crossentropy; Dropout rate: 0.1\n",
    "\n",
    "\n",
    "### How did you evaluate them? Why?\n",
    "\n",
    "We held out 140 test users for peformance evaluation. For each of those 140 test users, we only kept 2 songs from their song playlist as our known song list. Other parts of their playlist are hidden to us and only used for measuring the performance of our different sorting algorithms. And we used three metrics to evaluate our ranked recommendation song list, which are accurarcy score, mean precision, and normalized precision.\n",
    "\n",
    "1. Accuracy score: \n",
    "    * accuracy = # of recommended songs in users hidden song list / # of recommended songs\n",
    "    * To calculate the accuracy, we provided a 50 songs recommendation playlist for each test user based on different sorting criteria. And we then calculate average accuracy over all the test users.\n",
    "    * As the accuracy score of 50-song recommendation list is pretty low among all the sorting algorithms, and it also cannot take order of the list into account, it is quite hard to compare performance based on it. So we introduced another two metrics for evaluation.\n",
    "\n",
    "2. Mean precision & Normalized precision:\n",
    "    * mean precision $= \\frac{Prec_{0.25} + Prec_{0.5} + Prec_{0.75}}{3}$, where $Prec_{0.25}$ means precision when recall equals 0.25, and similar for $Prec_{0.5}$ and $Prec_{0.75}$.\n",
    "    * normalized precision $= 1 - \\frac{\\sum_{i=1}^{hid}logRank_i - \\sum_{i=1}^{hid}logi}{logN!/(N-hid)!(hid)!}$, where $hid$ denotes the total number of songs in user's hidden song list; $Rank_i$ is the position of the ith song in the hidden song list in the ranked returned recommendation list; N is the total number of returned recommendation song list.\n",
    "    * For each user, we returned a full ranked list of all the songs they haven't listened to. And we can measure the ranking of the songs in their hidden song list. Generally, if the songs in their hidden song list appears in front positions of the ranked list, we can get a higher precsion score. And this also indicates the sorting algorithms have better peformance.\n",
    "\n",
    "Based on the evaluation result, we choose the best performance sorting algorithm and used it to provide each user the top 5 songs as our final recommendation.  \n",
    "\n",
    "\n",
    "### Which methods were easy/difficult to implement and train? Why?  \n",
    "Relative speaking, Dense Classifer model is easier to implement while RNN and LSTM models are relatively harder since Dense classifer is a simple fully connected classification netowork, however, for RNN and LSTM, the very obvious problem for these two models are they have more hyper-parameters and they are easily overfitted. RNN and LSTM are normally used to predict text messages, whose datasets normally has much more features than we do in this project (we only have ten features for each tuple). \n",
    "\n",
    "\n",
    "### For each method, what hyperparameters did you evaluate? How sensitive was your model's performance to different hyperparameter settings?  \n",
    "We evaluate the loss function, threshold (0.7 in our model to classify samples into 1 and 0 by rating feature), activation functions, model depth, batch size, drop rate and epoch for each model. RNN and Dense network are much more stable than LSTM. LSTM model in our project is more sensitive to our hyperparameters. LSTM is especially sensitive to network depth. All the three models are sensitive to loss functions. Models are relatively stable to other hyper-parameters."
   ]
  },
  {
   "cell_type": "markdown",
   "id": "788b3ce0",
   "metadata": {},
   "source": [
    "1. Baseline"
   ]
  },
  {
   "cell_type": "code",
   "execution_count": 92,
   "id": "11ab78b1",
   "metadata": {},
   "outputs": [],
   "source": [
    "#total_listen number:\n",
    "data_grouped = data.groupby(['Song']).agg({'Usr': 'count'}).reset_index() \n",
    "data_grouped.rename(columns = {'Usr': 'listenership'},inplace=True)  \n",
    "data_grouped = data_grouped.sort_values(['listenership', 'Song'], ascending = [0,1]) \n",
    "data_grouped['Rank'] = data_grouped['listenership'].rank(ascending=0, method='first')\n",
    "recommendation_list = list(data_grouped['Song'])\n",
    "\n",
    "def baseline_model(userID, N=5):\n",
    "# playlist of user\n",
    "    used_items = user_songs[userID]\n",
    "\n",
    "    recom_list = []\n",
    "    count = 0\n",
    "    for i in range(len(recommendation_list)):\n",
    "        if recommendation_list[i] not in used_items:\n",
    "            recom_list.append(recommendation_list[i])\n",
    "            count +=1\n",
    "            if count ==N:\n",
    "                return recom_list  \n",
    "        else:\n",
    "            continue"
   ]
  },
  {
   "cell_type": "markdown",
   "id": "a4889132",
   "metadata": {},
   "source": [
    "2. User based recall"
   ]
  },
  {
   "cell_type": "code",
   "execution_count": 93,
   "id": "8bb6b444",
   "metadata": {
    "id": "8bb6b444"
   },
   "outputs": [],
   "source": [
    "from sklearn.preprocessing import StandardScaler\n",
    "attr = X.drop(['Usr', 'title', 'Time', 'song_hotness', 'artist'], axis=1).drop_duplicates().set_index('Song')\n",
    "scaler = StandardScaler()\n",
    "attr_std = scaler.fit_transform(attr)\n",
    "attr_df = pd.DataFrame(attr_std, index=attr.index, columns=attr.columns)\n",
    "\n",
    "# (song_id, title)\n",
    "song_title = dict(zip(data['Song'], data['title']))\n",
    "# (song_id, normalized metadata attributes)\n",
    "song_attr = dict(zip(attr_df.index, attr_df.values.tolist()))"
   ]
  },
  {
   "cell_type": "markdown",
   "id": "324d1af2",
   "metadata": {},
   "source": [
    "3. Content based similarity sorting:"
   ]
  },
  {
   "cell_type": "code",
   "execution_count": 94,
   "id": "ef27573d",
   "metadata": {
    "id": "ef27573d"
   },
   "outputs": [],
   "source": [
    "# Content based similarity sorting:\n",
    "def content_based_sorting(rec_items, used_items):\n",
    "    \n",
    "    # Calc cosine similarity:\n",
    "    def cosine_sim(x, y):\n",
    "        x,y = np.array(x), np.array(y)\n",
    "        return np.dot(x, y)/(norm(x)*norm(y))\n",
    "    \n",
    "    # (song, total similarity between current song and all songs in user historic song list):\n",
    "    sim = {}\n",
    "    for sid in rec_items:\n",
    "        sim[sid] = sum([cosine_sim(song_attr[sid], song_attr[ssid]) for ssid in used_items])\n",
    "    song_ids = dict(sorted(sim.items(), key=lambda x: x[1], reverse=True))\n",
    "    return list(song_ids.keys())"
   ]
  },
  {
   "cell_type": "markdown",
   "id": "f21fec61",
   "metadata": {},
   "source": [
    "4. Logistic Regression"
   ]
  },
  {
   "cell_type": "code",
   "execution_count": 95,
   "id": "13184ebf",
   "metadata": {},
   "outputs": [],
   "source": [
    "rank_logistic_data = logistic_data.drop(['title', 'Time', 'song_hotness', 'artist'], axis=1).drop_duplicates()\n",
    "rank_logistic_data['rating'] = rank_logistic_data['rating'].apply(lambda x: 0 if x <= 1.04145 else 1)\n",
    "X_lr_train, X_lr_test, y_lr_train, y_lr_test = train_test_split(rank_logistic_data.iloc[:, 2:-1].values, rank_logistic_data.iloc[:, -1].values, test_size=0.2)\n",
    "lr_model = LogisticRegression()\n",
    "lr_model.fit(X_lr_train, y_lr_train)\n",
    "def logistic_sorting(recall, userID, N=2906, mode = 'logistic'):\n",
    "    feature = rank_logistic_data[rank_logistic_data['Song'].isin(list(recall.keys()))]\n",
    "    feature['Usr'] = userID\n",
    "    feature.drop(\"rating\", axis = 1, inplace = True)\n",
    "    feature.drop_duplicates(inplace = True)\n",
    "    feature.sort_values(by=\"Song\" , ascending=True, inplace = True)\n",
    "    feature = feature.iloc[:,2:]\n",
    "    recall_list = list(recall.keys())\n",
    "    recall_list.sort()\n",
    "    weights = lr_model.predict_proba(feature)[:,1]\n",
    "    score = {}\n",
    "    i = 0\n",
    "    for song in recall_list:\n",
    "        score[song] = recall[song] * weights[i]\n",
    "        i += 1\n",
    "    \n",
    "    # filtering the top 5 songs\n",
    "    song_ids = dict(sorted(score.items(), key=lambda x: x[1], reverse=True)[: N])\n",
    "    \n",
    "    return list(song_ids.keys())"
   ]
  },
  {
   "cell_type": "code",
   "execution_count": 97,
   "id": "xuZ6HKeq_Z5b",
   "metadata": {
    "id": "xuZ6HKeq_Z5b"
   },
   "outputs": [],
   "source": [
    "import matplotlib.pyplot as plt\n",
    "from math import sqrt\n",
    "from matplotlib import pyplot\n",
    "import pandas as pd\n",
    "import numpy as np\n",
    "from numpy import concatenate\n",
    "from sklearn.preprocessing import MinMaxScaler\n",
    "from sklearn.metrics import mean_absolute_error, mean_squared_error, r2_score\n",
    "from keras.models import Sequential\n",
    "from keras.layers.core import Dense, Dropout, Activation\n",
    "from keras import layers\n",
    "import tensorflow as tf"
   ]
  },
  {
   "cell_type": "code",
   "execution_count": 111,
   "id": "8jRmJd_ZJlL5",
   "metadata": {
    "colab": {
     "base_uri": "https://localhost:8080/",
     "height": 206
    },
    "id": "8jRmJd_ZJlL5",
    "outputId": "b8e00a87-9520-427e-ab12-68009ff16fc4"
   },
   "outputs": [
    {
     "data": {
      "text/html": [
       "<div>\n",
       "<style scoped>\n",
       "    .dataframe tbody tr th:only-of-type {\n",
       "        vertical-align: middle;\n",
       "    }\n",
       "\n",
       "    .dataframe tbody tr th {\n",
       "        vertical-align: top;\n",
       "    }\n",
       "\n",
       "    .dataframe thead th {\n",
       "        text-align: right;\n",
       "    }\n",
       "</style>\n",
       "<table border=\"1\" class=\"dataframe\">\n",
       "  <thead>\n",
       "    <tr style=\"text-align: right;\">\n",
       "      <th></th>\n",
       "      <th>Usr</th>\n",
       "      <th>Song</th>\n",
       "      <th>duration</th>\n",
       "      <th>key</th>\n",
       "      <th>loudness</th>\n",
       "      <th>mode</th>\n",
       "      <th>tempo</th>\n",
       "      <th>artist_hotness</th>\n",
       "      <th>rating</th>\n",
       "    </tr>\n",
       "  </thead>\n",
       "  <tbody>\n",
       "    <tr>\n",
       "      <th>0</th>\n",
       "      <td>8021</td>\n",
       "      <td>519</td>\n",
       "      <td>368.79628</td>\n",
       "      <td>4</td>\n",
       "      <td>-11.194</td>\n",
       "      <td>0</td>\n",
       "      <td>105.02</td>\n",
       "      <td>0.487848</td>\n",
       "      <td>1</td>\n",
       "    </tr>\n",
       "    <tr>\n",
       "      <th>1</th>\n",
       "      <td>10432</td>\n",
       "      <td>519</td>\n",
       "      <td>368.79628</td>\n",
       "      <td>4</td>\n",
       "      <td>-11.194</td>\n",
       "      <td>0</td>\n",
       "      <td>105.02</td>\n",
       "      <td>0.487848</td>\n",
       "      <td>1</td>\n",
       "    </tr>\n",
       "    <tr>\n",
       "      <th>2</th>\n",
       "      <td>7609</td>\n",
       "      <td>519</td>\n",
       "      <td>368.79628</td>\n",
       "      <td>4</td>\n",
       "      <td>-11.194</td>\n",
       "      <td>0</td>\n",
       "      <td>105.02</td>\n",
       "      <td>0.487848</td>\n",
       "      <td>1</td>\n",
       "    </tr>\n",
       "    <tr>\n",
       "      <th>3</th>\n",
       "      <td>20892</td>\n",
       "      <td>519</td>\n",
       "      <td>368.79628</td>\n",
       "      <td>4</td>\n",
       "      <td>-11.194</td>\n",
       "      <td>0</td>\n",
       "      <td>105.02</td>\n",
       "      <td>0.487848</td>\n",
       "      <td>1</td>\n",
       "    </tr>\n",
       "    <tr>\n",
       "      <th>4</th>\n",
       "      <td>20336</td>\n",
       "      <td>519</td>\n",
       "      <td>368.79628</td>\n",
       "      <td>4</td>\n",
       "      <td>-11.194</td>\n",
       "      <td>0</td>\n",
       "      <td>105.02</td>\n",
       "      <td>0.487848</td>\n",
       "      <td>1</td>\n",
       "    </tr>\n",
       "  </tbody>\n",
       "</table>\n",
       "</div>"
      ],
      "text/plain": [
       "     Usr  Song   duration  key  loudness  mode   tempo  artist_hotness  rating\n",
       "0   8021   519  368.79628    4   -11.194     0  105.02        0.487848       1\n",
       "1  10432   519  368.79628    4   -11.194     0  105.02        0.487848       1\n",
       "2   7609   519  368.79628    4   -11.194     0  105.02        0.487848       1\n",
       "3  20892   519  368.79628    4   -11.194     0  105.02        0.487848       1\n",
       "4  20336   519  368.79628    4   -11.194     0  105.02        0.487848       1"
      ]
     },
     "execution_count": 111,
     "metadata": {},
     "output_type": "execute_result"
    }
   ],
   "source": [
    "rank_data = KNN_data.drop(['title', 'Time', 'song_hotness', 'artist'], axis=1).drop_duplicates()\n",
    "rank_data['rating'] = rank_data['rating'].apply(lambda x: 0 if x < 0.7 else 1)\n",
    "rank_data.head()"
   ]
  },
  {
   "cell_type": "code",
   "execution_count": 112,
   "id": "HsDO5nZNKEey",
   "metadata": {
    "id": "HsDO5nZNKEey"
   },
   "outputs": [],
   "source": [
    "X_NN_train, X_NN_test, y_NN_train, y_NN_test = train_test_split(rank_data.iloc[:, :-1].values, rank_data.iloc[:, -1].values, test_size=0.2)\n",
    "X_NN_train = np.reshape(X_NN_train, (X_NN_train.shape[0],X_NN_train.shape[1] , 1))\n",
    "X_NN_test = np.reshape(X_NN_test, (X_NN_test.shape[0], X_NN_test.shape[1], 1))\n",
    "X_NN_train, y_train = np.array(X_NN_train), np.array(y_NN_train)\n",
    "X_NN_test, y_NN_test = np.array(X_NN_test), np.array(y_NN_test)"
   ]
  },
  {
   "cell_type": "markdown",
   "id": "66c86a3b",
   "metadata": {},
   "source": [
    "5. RNN"
   ]
  },
  {
   "cell_type": "code",
   "execution_count": 113,
   "id": "XP3gTnACHpFx",
   "metadata": {
    "colab": {
     "base_uri": "https://localhost:8080/"
    },
    "id": "XP3gTnACHpFx",
    "outputId": "fd30d171-3cb2-42ad-d92b-0bcc9b1dbeec"
   },
   "outputs": [
    {
     "name": "stdout",
     "output_type": "stream",
     "text": [
      "1883/1883 - 13s - loss: 0.0068 - accuracy: 0.9991 - val_loss: 9.3066e-06 - val_accuracy: 1.0000 - 13s/epoch - 7ms/step\n",
      "Model: \"sequential_9\"\n",
      "_________________________________________________________________\n",
      " Layer (type)                Output Shape              Param #   \n",
      "=================================================================\n",
      " simple_rnn_6 (SimpleRNN)    (None, 8, 100)            10200     \n",
      "                                                                 \n",
      " activation_6 (Activation)   (None, 8, 100)            0         \n",
      "                                                                 \n",
      " dropout_6 (Dropout)         (None, 8, 100)            0         \n",
      "                                                                 \n",
      " simple_rnn_7 (SimpleRNN)    (None, 100)               20100     \n",
      "                                                                 \n",
      " activation_7 (Activation)   (None, 100)               0         \n",
      "                                                                 \n",
      " dropout_7 (Dropout)         (None, 100)               0         \n",
      "                                                                 \n",
      " dense_18 (Dense)            (None, 1)                 101       \n",
      "                                                                 \n",
      "=================================================================\n",
      "Total params: 30,401\n",
      "Trainable params: 30,401\n",
      "Non-trainable params: 0\n",
      "_________________________________________________________________\n"
     ]
    }
   ],
   "source": [
    "RNN_model = Sequential()\n",
    "RNN_model.add(layers.SimpleRNN(units=100, return_sequences=True))\n",
    "RNN_model.add(Activation('relu'))\n",
    "RNN_model.add(Dropout(0.1))\n",
    "RNN_model.add(layers.SimpleRNN(units=100))\n",
    "RNN_model.add(Activation('relu'))\n",
    "RNN_model.add(Dropout(0.1))\n",
    "RNN_model.add(Dense(1))\n",
    "RNN_model.compile(loss='mean_squared_error', optimizer=tf.keras.optimizers.Adam(), metrics =['accuracy'])\n",
    "history = RNN_model.fit(X_NN_train, y_NN_train, epochs=1, batch_size=64,\n",
    "validation_data=(X_NN_test, y_NN_test), verbose=2)\n",
    "RNN_model.summary()"
   ]
  },
  {
   "cell_type": "markdown",
   "id": "cfb0cf44",
   "metadata": {},
   "source": [
    "6.LSMT"
   ]
  },
  {
   "cell_type": "code",
   "execution_count": 114,
   "id": "ZOEnf-1raJFN",
   "metadata": {
    "colab": {
     "base_uri": "https://localhost:8080/"
    },
    "id": "ZOEnf-1raJFN",
    "outputId": "f80316bf-ff73-4c61-f4e0-61cd4dbbf1f1"
   },
   "outputs": [
    {
     "name": "stdout",
     "output_type": "stream",
     "text": [
      "1883/1883 - 15s - loss: 2.2661 - accuracy: 0.8455 - val_loss: 0.7173 - val_accuracy: 0.9530 - 15s/epoch - 8ms/step\n",
      "Model: \"sequential_10\"\n",
      "_________________________________________________________________\n",
      " Layer (type)                Output Shape              Param #   \n",
      "=================================================================\n",
      " lstm_6 (LSTM)               (None, 8, 10)             480       \n",
      "                                                                 \n",
      " lstm_7 (LSTM)               (None, 10)                840       \n",
      "                                                                 \n",
      " dense_19 (Dense)            (None, 1)                 11        \n",
      "                                                                 \n",
      "=================================================================\n",
      "Total params: 1,331\n",
      "Trainable params: 1,331\n",
      "Non-trainable params: 0\n",
      "_________________________________________________________________\n"
     ]
    }
   ],
   "source": [
    "LSTM_model = Sequential()\n",
    "LSTM_model.add(layers.LSTM(units=10, activation='relu', return_sequences=True))\n",
    "LSTM_model.add(layers.LSTM(units=10, activation='relu'))\n",
    "LSTM_model.add(Dense(1))\n",
    "LSTM_model.compile(loss='binary_crossentropy', optimizer=tf.keras.optimizers.Adam(), metrics =['accuracy'])\n",
    "history = LSTM_model.fit(X_NN_train, y_NN_train, epochs=1, batch_size=64,\n",
    "validation_data=(X_NN_test, y_NN_test), verbose=2)\n",
    "LSTM_model.summary()"
   ]
  },
  {
   "cell_type": "markdown",
   "id": "91616802",
   "metadata": {},
   "source": [
    "7. Neural Network"
   ]
  },
  {
   "cell_type": "code",
   "execution_count": 115,
   "id": "CVJ14w0XJ5fJ",
   "metadata": {
    "colab": {
     "base_uri": "https://localhost:8080/"
    },
    "id": "CVJ14w0XJ5fJ",
    "outputId": "0e3d9a5b-9a1c-4f30-a9b4-1c6d4debf38c"
   },
   "outputs": [
    {
     "name": "stdout",
     "output_type": "stream",
     "text": [
      "1883/1883 - 4s - loss: 5.8586 - accuracy: 0.9971 - val_loss: 3.3344e-19 - val_accuracy: 1.0000 - 4s/epoch - 2ms/step\n",
      "Model: \"sequential_11\"\n",
      "_________________________________________________________________\n",
      " Layer (type)                Output Shape              Param #   \n",
      "=================================================================\n",
      " flatten_3 (Flatten)         (None, 8)                 0         \n",
      "                                                                 \n",
      " dense_20 (Dense)            (None, 128)               1152      \n",
      "                                                                 \n",
      " dense_21 (Dense)            (None, 64)                8256      \n",
      "                                                                 \n",
      " dense_22 (Dense)            (None, 1)                 65        \n",
      "                                                                 \n",
      " dense_23 (Dense)            (None, 1)                 2         \n",
      "                                                                 \n",
      "=================================================================\n",
      "Total params: 9,475\n",
      "Trainable params: 9,475\n",
      "Non-trainable params: 0\n",
      "_________________________________________________________________\n"
     ]
    }
   ],
   "source": [
    "import keras,os\n",
    "from keras.models import Sequential\n",
    "from keras.layers import Dense, Conv2D, MaxPool2D , Flatten\n",
    "import numpy as np\n",
    "import tensorflow as tf\n",
    "NN_model = keras.Sequential([keras.layers.Flatten(input_shape = (8, 1)),\n",
    "                keras.layers.Dense(128,activation = tf.nn.relu),     \n",
    "                keras.layers.Dense(64,activation = tf.nn.relu), \n",
    "                keras.layers.Dense(1),                 \n",
    "                keras.layers.Dense(1,activation = tf.nn.sigmoid)])\n",
    "NN_model.compile(optimizer = 'adam',loss='binary_crossentropy',metrics =['accuracy'])\n",
    "history = NN_model.fit(X_NN_train, y_NN_train, epochs=1, batch_size=64,\n",
    "validation_data=(X_NN_test, y_NN_test), verbose=2)\n",
    "NN_model.summary()"
   ]
  },
  {
   "cell_type": "code",
   "execution_count": 116,
   "id": "vSdWn9Cd8Fyo",
   "metadata": {
    "id": "vSdWn9Cd8Fyo"
   },
   "outputs": [],
   "source": [
    "def Multi_NN_sorting(recall, userID, N=2906, mode = 'NN'):\n",
    "    feature = rank_data[rank_data['Song'].isin(list(recall.keys()))]\n",
    "    feature['Usr'] = userID\n",
    "    feature.drop(\"rating\", axis = 1, inplace = True)\n",
    "    feature.drop_duplicates(inplace = True)\n",
    "    feature.sort_values(by=\"Song\" , ascending=True, inplace = True)\n",
    "    recall_list = list(recall.keys())\n",
    "    recall_list.sort()\n",
    "    feature = feature.to_numpy().reshape(feature.shape[0], feature.shape[1], 1)\n",
    "    if mode == \"RNN\":\n",
    "        weights = RNN_model.predict(feature)\n",
    "    elif mode == \"LSTM\":\n",
    "        weights = LSTM_model.predict(feature)\n",
    "    else:\n",
    "        weights = NN_model.predict(feature)\n",
    "    score = {}\n",
    "    i = 0\n",
    "    for song in recall_list:\n",
    "        score[song] = recall[song] * weights[i]\n",
    "        i += 1\n",
    "    \n",
    "    # filtering the top 5 songs id\n",
    "    song_ids = dict(sorted(score.items(), key=lambda x: x[1], reverse=True)[: N])\n",
    "    \n",
    "    return list(song_ids.keys())"
   ]
  },
  {
   "cell_type": "markdown",
   "id": "8a65b169",
   "metadata": {
    "id": "8a65b169"
   },
   "source": [
    "## Final recommender"
   ]
  },
  {
   "cell_type": "code",
   "execution_count": 117,
   "id": "d858f5f0",
   "metadata": {
    "colab": {
     "base_uri": "https://localhost:8080/"
    },
    "id": "d858f5f0",
    "outputId": "b7f9a70c-3a10-44aa-b27d-012a328ab2d3"
   },
   "outputs": [
    {
     "data": {
      "text/plain": [
       "[1133, 117, 997, 2513, 508]"
      ]
     },
     "execution_count": 117,
     "metadata": {},
     "output_type": "execute_result"
    }
   ],
   "source": [
    "# Return a song list based on User CF and sorting by different criteria:\n",
    "def recommendation_basedonUserCF(userID, N=2906, sorting = 'item_sim'):\n",
    "    used_items = user_songs[userID]\n",
    "    item_ratings = {}\n",
    "    for item in songs:\n",
    "        if item not in used_items:\n",
    "            item_ratings[item] = knn_usercf.predict(userID, item).est\n",
    "    song_ids = dict(sorted(item_ratings.items(), key=lambda x: x[1], reverse=True)[:N])\n",
    "    median_rate = statistics.median(item_ratings.values())\n",
    "    if sorting == 'item_sim':\n",
    "        return content_based_sorting(list(song_ids.keys()), used_items)\n",
    "    if sorting == 'logistic':\n",
    "        return logistic_sorting(song_ids, userID,N)\n",
    "    if sorting == 'RNN':\n",
    "        return Multi_NN_sorting(song_ids, userID, N, 'RNN')\n",
    "    if sorting == 'LSTM':\n",
    "        return Multi_NN_sorting(song_ids, userID, N, 'LSTM')\n",
    "    if sorting == 'NN':\n",
    "        return Multi_NN_sorting(song_ids, userID, N, 'NN')\n",
    "    return list(song_ids.keys())\n",
    "recommendation_basedonUserCF(1162,5,'RNN')"
   ]
  },
  {
   "cell_type": "markdown",
   "id": "8921bf44",
   "metadata": {
    "id": "8921bf44"
   },
   "source": [
    "## Results\n",
    "\n",
    "\n",
    "### Show tables comparing your methods to the baselines.\n",
    "| Model | Accuracy | Mean Precision | Normalized Precision |\n",
    "| :- | :-: | :-: | :-: |\n",
    "| Baseline | 0.00 |  | \n",
    "| Pure User Based | 0.001 | 0.0827 | 0.191\n",
    "| Content Based Sorting | 0.0827 | 0.0827 | 0.257\n",
    "| Logistic Sorting | 0.0044 | 0.0996 | 0.211\n",
    "| RNN Sorting | 0.0044 | 0.104 | 0.2278\n",
    "| LSTM Sorting | 0.0044 | 0.073 | 0.1854\n",
    "| Dense Classifier Sorting | 0.0044 | 0.106 | 0.222\n",
    "\n",
    "*Since the baseline accuracy is 0, precision is not available\n",
    "\n",
    "### What about these results surprised you? Why?\n",
    "\n",
    "The result given by LSTM is worse than expected while Dense Classifier is better than expected, since LSTM is much more complicated model while Dense Classifier is just a two-layer fully connected network. The reason for this result is that LSTM turn to be overfitted since it is normally used to process much larger datasets while our datasets only have ten features for each sample, it is easy to be overfitted. \n",
    "\n",
    "### Did your models over- or under-fit? How can you tell? What did you do to address these issues?\n",
    "\n",
    "LSTM and RNN is overfitted since with depth larger then 10, it can get training accuracy to be 1 in less than two epochs, in sorting step. We reduced the network depth, added the network dropout, and reduced the number of epochs. \n",
    "\n",
    "### What does the evaluation of your trained models tell you about your data? How do you expect these models might behave differently on different data? \n",
    "The evaluation result tells us that the our datasets is relatively small compared with other datasets (image datasets, singal datasets, and even text datasets). For our datasets, it is not suitable to apply complicated models, it is easy to be overfitted. "
   ]
  },
  {
   "cell_type": "markdown",
   "id": "3abe011b",
   "metadata": {
    "id": "3abe011b"
   },
   "source": [
    "# V. Performance Evaluation:"
   ]
  },
  {
   "cell_type": "code",
   "execution_count": 118,
   "id": "8943becf",
   "metadata": {
    "colab": {
     "base_uri": "https://localhost:8080/"
    },
    "id": "8943becf",
    "outputId": "fe64eaf0-a162-4c27-ec94-155da52f3393"
   },
   "outputs": [
    {
     "name": "stdout",
     "output_type": "stream",
     "text": [
      "The average accuracy of 50 recommended song list by user-based: 0.0011236769609975351\n",
      "The average accuracy of 50 recommended song list by content-based: 0.004360902255639097\n",
      "The average accuracy of 50 recommended song list by logistic sotring: 0.004360902255639097\n",
      "The average accuracy of 50 recommended song list by RNN sotring: 0.004360902255639097\n",
      "The average accuracy of 50 recommended song list by LSTM sotring: 0.004360902255639097\n",
      "The average accuracy of 50 recommended song list by NN sotring: 0.004360902255639097\n"
     ]
    }
   ],
   "source": [
    "## I. Accuracy Score\n",
    "from evaluation import *\n",
    "acc = [acc_score(recommendation_basedonUserCF(k),user_hidden_songs[k]) for k in user_hidden_songs]\n",
    "acc_content = [acc_score(recommendation_basedonUserCF(k,N=50, sorting = 'item_sim'),user_hidden_songs[k]) for k in user_hidden_songs]\n",
    "acc_logistic = [acc_score(recommendation_basedonUserCF(k,N=50, sorting = 'logistic'),user_hidden_songs[k]) for k in user_hidden_songs]\n",
    "acc_RNN = [acc_score(recommendation_basedonUserCF(k, N=50, sorting ='RNN'),user_hidden_songs[k]) for k in user_hidden_songs]\n",
    "acc_LSTM = [acc_score(recommendation_basedonUserCF(k,N=50, sorting = 'LSTM'),user_hidden_songs[k]) for k in user_hidden_songs]\n",
    "acc_NN = [acc_score(recommendation_basedonUserCF(k, N=50, sorting = 'NN'),user_hidden_songs[k]) for k in user_hidden_songs]\n",
    "\n",
    "print('The average accuracy of 50 recommended song list by user-based:', np.mean(acc))\n",
    "print('The average accuracy of 50 recommended song list by content-based:', np.mean(acc_content))\n",
    "print('The average accuracy of 50 recommended song list by logistic sotring:', np.mean(acc_logistic))\n",
    "print('The average accuracy of 50 recommended song list by RNN sotring:', np.mean(acc_RNN))\n",
    "print('The average accuracy of 50 recommended song list by LSTM sotring:', np.mean(acc_LSTM))\n",
    "print('The average accuracy of 50 recommended song list by NN sotring:', np.mean(acc_NN))"
   ]
  },
  {
   "cell_type": "code",
   "execution_count": 121,
   "id": "4fbc07cc",
   "metadata": {
    "colab": {
     "base_uri": "https://localhost:8080/"
    },
    "id": "4fbc07cc",
    "outputId": "2ef82c4b-9f64-49cd-e22f-3a696b7ef7dd"
   },
   "outputs": [
    {
     "name": "stdout",
     "output_type": "stream",
     "text": [
      "The average mean precision based on raw user rating sorting: 0.08270241218384498\n",
      "The average mean precision based on item similarity sorting: 0.08270241218384498\n",
      "The average mean precision based on RNN sorting: 0.10400747998839018\n",
      "The average mean precision based on LSTM sorting: 0.07296833856867846\n",
      "The average mean precision based on NN sorting: 0.10640457630761438\n"
     ]
    }
   ],
   "source": [
    "## II. mean precision:\n",
    "mean_pre_1 = [mean_precision(recommendation_basedonUserCF(k),user_hidden_songs[k]) for k in user_hidden_songs]\n",
    "mean_pre_2 = [mean_precision(recommendation_basedonUserCF(k,sorting='item_sim'),user_hidden_songs[k]) for k in user_hidden_songs]\n",
    "mean_pre_RNN = [mean_precision(recommendation_basedonUserCF(k,sorting='RNN'),user_hidden_songs[k]) for k in user_hidden_songs]\n",
    "mean_pre_LSTM = [mean_precision(recommendation_basedonUserCF(k,sorting='LSTM'),user_hidden_songs[k]) for k in user_hidden_songs]\n",
    "mean_pre_NN = [mean_precision(recommendation_basedonUserCF(k,sorting='NN'),user_hidden_songs[k]) for k in user_hidden_songs]\n",
    "\n",
    "print('The average mean precision based on raw user rating sorting:', np.mean(mean_pre_1))\n",
    "print('The average mean precision based on item similarity sorting:', np.mean(mean_pre_2))\n",
    "print('The average mean precision based on RNN sorting:', np.mean(mean_pre_RNN))\n",
    "print('The average mean precision based on LSTM sorting:', np.mean(mean_pre_LSTM))\n",
    "print('The average mean precision based on NN sorting:', np.mean(mean_pre_NN))"
   ]
  },
  {
   "cell_type": "code",
   "execution_count": 120,
   "id": "97e3aa67",
   "metadata": {},
   "outputs": [
    {
     "name": "stdout",
     "output_type": "stream",
     "text": [
      "The average mean precision based on logistic sorting: 0.09964876993716079\n"
     ]
    }
   ],
   "source": [
    "mean_pre_logistic = [mean_precision(recommendation_basedonUserCF(k,sorting='logistic'),user_hidden_songs[k]) for k in user_hidden_songs]\n",
    "print('The average mean precision based on logistic sorting:', np.mean(mean_pre_logistic))"
   ]
  },
  {
   "cell_type": "code",
   "execution_count": 122,
   "id": "0f5f3b06",
   "metadata": {
    "colab": {
     "base_uri": "https://localhost:8080/"
    },
    "id": "0f5f3b06",
    "outputId": "cbbd5594-2a1c-41dc-db37-5a43ae989f6f"
   },
   "outputs": [
    {
     "name": "stdout",
     "output_type": "stream",
     "text": [
      "The average normalized precision based on item similarity sorting: 0.2579409553628042\n",
      "The average normalized precision based on raw user rating sorting: 0.19565004044123482\n",
      "The average normalized precision based on logistic sorting: 0.21107519487474635\n",
      "The average normalized precision based on RNN sorting: 0.22780313346641026\n",
      "The average normalized precision based on LSTM sorting: 0.18539820329522444\n",
      "The average normalized precision based on NN sorting: 0.22171592219136071\n"
     ]
    }
   ],
   "source": [
    "norm_pre_1 = [norm_precision(recommendation_basedonUserCF(k),user_hidden_songs[k]) for k in user_hidden_songs]\n",
    "norm_pre_2 = [norm_precision(recommendation_basedonUserCF(k,sorting='Default'),user_hidden_songs[k]) for k in user_hidden_songs]\n",
    "norm_pre_logistic = [norm_precision(recommendation_basedonUserCF(k,sorting='logistic'),user_hidden_songs[k]) for k in user_hidden_songs]\n",
    "norm_pre_RNN = [norm_precision(recommendation_basedonUserCF(k,sorting='RNN'),user_hidden_songs[k]) for k in user_hidden_songs]\n",
    "norm_pre_LSTM = [norm_precision(recommendation_basedonUserCF(k,sorting='LSTM'),user_hidden_songs[k]) for k in user_hidden_songs]\n",
    "norm_pre_NN = [norm_precision(recommendation_basedonUserCF(k,sorting='NN'),user_hidden_songs[k]) for k in user_hidden_songs]\n",
    "\n",
    "print('The average normalized precision based on item similarity sorting:', np.mean(norm_pre_1))\n",
    "print('The average normalized precision based on raw user rating sorting:', np.mean(norm_pre_2))\n",
    "print('The average normalized precision based on logistic sorting:', np.mean(norm_pre_logistic))\n",
    "print('The average normalized precision based on RNN sorting:', np.mean(norm_pre_RNN))\n",
    "print('The average normalized precision based on LSTM sorting:', np.mean(norm_pre_LSTM))\n",
    "print('The average normalized precision based on NN sorting:', np.mean(norm_pre_NN))"
   ]
  },
  {
   "cell_type": "markdown",
   "id": "51ed4d83",
   "metadata": {
    "id": "51ed4d83"
   },
   "source": [
    "# Discussion"
   ]
  },
  {
   "cell_type": "markdown",
   "id": "4be43d57",
   "metadata": {
    "id": "4be43d57"
   },
   "source": [
    "## What you've learned\n",
    "\n",
    "*Note: you don't have to answer all of these, and you can answer other questions if you'd like. We just want you to demonstrate what you've learned from the project.*\n",
    "\n",
    "### What concepts from lecture/breakout were most relevant to your project? \n",
    "\n",
    "1. Some Supervised Learning models  \n",
    "* KNN algorithm. The User-based Collaborative filtering method used a user-based KNN algorithm when finding the most similar users.\n",
    "* Logistic Regression: sorting stage model.\n",
    "2. Some Neural Networks\n",
    "* RNN: sorting stage model.\n",
    "* NN: sorting stage model.  \n",
    "* LSTM: sorting stage model.\n",
    "3. Loss function and Activation function (in Neural Networks settings)\n",
    "* Loss function: Binary Crossentropy and MSE. \n",
    "* Activation function: Relu and sigmoid function. \n",
    "\n",
    "\n",
    "### What aspects of your project did you find most surprising?  \n",
    "\n",
    "1. How to measure our recommendation results is more difficult than we expect. We cannot find a proper evaluation method to measure our candidate song sets in the recall stage using UB-CF model, even though the behind logic is reasonable.\n",
    "2. Although we find a evaluation method to measure our final recommendation results, the accuracy is pretty low due to too large song library.\n",
    "\n",
    "\n",
    "\n",
    "### What lessons did you take from this project that you want to remember for the next ML project you work on? Do you think those lessons would transfer to other datasets and/or models? Why or why not?  \n",
    "We learned the following from this project:\n",
    "1. For a successful project, we need to spend more time analysing different models, previous similar projects, our own datasets, rather then focus mostly on the code implementation. Later implementation will definitely benefit greatly from preliminary research.\n",
    "2. Always start from a small datasets to implement workable models and then apply the models to the larger datasets. It takes so long a time for each trial of implementation with whole datasets that waste a lot of time.\n",
    "\n",
    "We believe those lessons would transfer to other datasets and models. The above lessons are not specific for any datasets and normally machine learning algorithms are used to process large dataset, there are normally many ML models to choose from for a single problem solving, therefore, how to deal with large project and large datasets are the problems that almost all the ML projects need to face.\n",
    "\n",
    "### If you had two more weeks to work on this project, what would you do next? Why?\n",
    "\n",
    "1. We will try Attention mechanism. Compared with RNN, complexity of Attention is smaller and has fewer parameters. Therefore, the computing power requirement is smaller. Besides, its feature extraction ability is better than RNN model, which may result in a better result.\n",
    "2. Find the relationship between features and obtain more useful features through feature intersection by using Deep FM, DCN, etc. Feature combination and construction may further improve the recommendation results.\n",
    "3. Try to find additional dataset that contains the online listening record of songs in our candidate song sets. These data can help us better evaluate our recommendation results, since it directly reflects whether the user like the songs we recommend or not.\n"
   ]
  },
  {
   "cell_type": "code",
   "execution_count": null,
   "id": "88e38625",
   "metadata": {
    "id": "88e38625"
   },
   "outputs": [],
   "source": []
  }
 ],
 "metadata": {
  "accelerator": "GPU",
  "colab": {
   "collapsed_sections": [],
   "machine_shape": "hm",
   "name": "Final_project_music_AI_v3.ipynb",
   "provenance": []
  },
  "kernelspec": {
   "display_name": "Python 3",
   "language": "python",
   "name": "python3"
  },
  "language_info": {
   "codemirror_mode": {
    "name": "ipython",
    "version": 3
   },
   "file_extension": ".py",
   "mimetype": "text/x-python",
   "name": "python",
   "nbconvert_exporter": "python",
   "pygments_lexer": "ipython3",
   "version": "3.8.8"
  }
 },
 "nbformat": 4,
 "nbformat_minor": 5
}
